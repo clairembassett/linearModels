{
  "cells": [
    {
      "cell_type": "markdown",
      "metadata": {
        "vscode": {
          "languageId": "bat"
        },
        "id": "4wWwkWzZyjZa"
      },
      "source": [
        "# Hedonic Pricing\n",
        "\n",
        "We often try to predict the price of an asset from its observable characteristics. This is generally called **hedonic pricing**: How do the unit's characteristics determine its market price?\n",
        "\n",
        "In the lab folder, there are three options: housing prices in pierce_county_house_sales.csv, car prices in cars_hw.csv, and airbnb rental prices in airbnb_hw.csv. If you know of another suitable dataset, please feel free to use that one.\n",
        "\n",
        "1. Clean the data and perform some EDA and visualization to get to know the data set.\n",
        "2. Transform your variables --- particularly categorical ones --- for use in your regression analysis.\n",
        "3. Implement an ~80/~20 train-test split. Put the test data aside.\n",
        "4. Build some simple linear models that include no transformations or interactions. Fit them, and determine their RMSE and $R^2$ on the both the training and test sets. Which of your models does the best?\n",
        "5. Make partial correlation plots for each of the numeric variables in your model. Do you notice any significant non-linearities?\n",
        "6. Include transformations and interactions of your variables, and build a more complex model that reflects your ideas about how the features of the asset determine its value. Determine its RMSE and $R^2$ on the training and test sets. How does the more complex model your build compare to the simpler ones?\n",
        "7. Summarize your results from 1 to 6. Have you learned anything about overfitting and underfitting, or model selection?\n",
        "8. If you have time, use the sklearn.linear_model.Lasso to regularize your model and select the most predictive features. Which does it select? What are the RMSE and $R^2$? We'll cover the Lasso later in detail in class."
      ]
    },
    {
      "cell_type": "code",
      "source": [
        "import pandas as pd\n",
        "import matplotlib.pyplot as plt\n",
        "import seaborn as sns\n",
        "import numpy as np"
      ],
      "metadata": {
        "id": "xDnpNRR70BIM"
      },
      "execution_count": 312,
      "outputs": []
    },
    {
      "cell_type": "code",
      "source": [
        "from sklearn.linear_model import LinearRegression\n",
        "from sklearn.model_selection import train_test_split"
      ],
      "metadata": {
        "id": "P57Tpc_pQXan"
      },
      "execution_count": 313,
      "outputs": []
    },
    {
      "cell_type": "code",
      "source": [
        "df = pd.read_csv('/content/airbnb_hw.csv')\n",
        "df0 = df"
      ],
      "metadata": {
        "id": "Rkv14pfEz7mV"
      },
      "execution_count": 314,
      "outputs": []
    },
    {
      "cell_type": "markdown",
      "source": [
        "# Exploratory Data Analysis\n",
        "1. Clean the data and perform some EDA and visualization to get to know the data set."
      ],
      "metadata": {
        "id": "ow_5mGJVOCtT"
      }
    },
    {
      "cell_type": "code",
      "source": [
        "df.head()"
      ],
      "metadata": {
        "colab": {
          "base_uri": "https://localhost:8080/",
          "height": 469
        },
        "id": "6OW_NeQ50Hq9",
        "outputId": "91b36daa-ad3f-47cf-802a-6076c15637b7"
      },
      "execution_count": 315,
      "outputs": [
        {
          "output_type": "execute_result",
          "data": {
            "text/plain": [
              "    Host Id Host Since                                Name Neighbourhood   \\\n",
              "0   5162530        NaN     1 Bedroom in Prime Williamsburg       Brooklyn   \n",
              "1  33134899        NaN     Sunny, Private room in Bushwick       Brooklyn   \n",
              "2  39608626        NaN                Sunny Room in Harlem      Manhattan   \n",
              "3       500  6/26/2008  Gorgeous 1 BR with Private Balcony      Manhattan   \n",
              "4       500  6/26/2008            Trendy Times Square Loft      Manhattan   \n",
              "\n",
              "  Property Type  Review Scores Rating (bin)        Room Type  Zipcode  Beds  \\\n",
              "0     Apartment                         NaN  Entire home/apt  11249.0   1.0   \n",
              "1     Apartment                         NaN     Private room  11206.0   1.0   \n",
              "2     Apartment                         NaN     Private room  10032.0   1.0   \n",
              "3     Apartment                         NaN  Entire home/apt  10024.0   3.0   \n",
              "4     Apartment                        95.0     Private room  10036.0   3.0   \n",
              "\n",
              "   Number of Records  Number Of Reviews Price  Review Scores Rating  \n",
              "0                  1                  0   145                   NaN  \n",
              "1                  1                  1    37                   NaN  \n",
              "2                  1                  1    28                   NaN  \n",
              "3                  1                  0   199                   NaN  \n",
              "4                  1                 39   549                  96.0  "
            ],
            "text/html": [
              "\n",
              "  <div id=\"df-8093b538-d9ea-451b-abdd-4491e72c654d\" class=\"colab-df-container\">\n",
              "    <div>\n",
              "<style scoped>\n",
              "    .dataframe tbody tr th:only-of-type {\n",
              "        vertical-align: middle;\n",
              "    }\n",
              "\n",
              "    .dataframe tbody tr th {\n",
              "        vertical-align: top;\n",
              "    }\n",
              "\n",
              "    .dataframe thead th {\n",
              "        text-align: right;\n",
              "    }\n",
              "</style>\n",
              "<table border=\"1\" class=\"dataframe\">\n",
              "  <thead>\n",
              "    <tr style=\"text-align: right;\">\n",
              "      <th></th>\n",
              "      <th>Host Id</th>\n",
              "      <th>Host Since</th>\n",
              "      <th>Name</th>\n",
              "      <th>Neighbourhood</th>\n",
              "      <th>Property Type</th>\n",
              "      <th>Review Scores Rating (bin)</th>\n",
              "      <th>Room Type</th>\n",
              "      <th>Zipcode</th>\n",
              "      <th>Beds</th>\n",
              "      <th>Number of Records</th>\n",
              "      <th>Number Of Reviews</th>\n",
              "      <th>Price</th>\n",
              "      <th>Review Scores Rating</th>\n",
              "    </tr>\n",
              "  </thead>\n",
              "  <tbody>\n",
              "    <tr>\n",
              "      <th>0</th>\n",
              "      <td>5162530</td>\n",
              "      <td>NaN</td>\n",
              "      <td>1 Bedroom in Prime Williamsburg</td>\n",
              "      <td>Brooklyn</td>\n",
              "      <td>Apartment</td>\n",
              "      <td>NaN</td>\n",
              "      <td>Entire home/apt</td>\n",
              "      <td>11249.0</td>\n",
              "      <td>1.0</td>\n",
              "      <td>1</td>\n",
              "      <td>0</td>\n",
              "      <td>145</td>\n",
              "      <td>NaN</td>\n",
              "    </tr>\n",
              "    <tr>\n",
              "      <th>1</th>\n",
              "      <td>33134899</td>\n",
              "      <td>NaN</td>\n",
              "      <td>Sunny, Private room in Bushwick</td>\n",
              "      <td>Brooklyn</td>\n",
              "      <td>Apartment</td>\n",
              "      <td>NaN</td>\n",
              "      <td>Private room</td>\n",
              "      <td>11206.0</td>\n",
              "      <td>1.0</td>\n",
              "      <td>1</td>\n",
              "      <td>1</td>\n",
              "      <td>37</td>\n",
              "      <td>NaN</td>\n",
              "    </tr>\n",
              "    <tr>\n",
              "      <th>2</th>\n",
              "      <td>39608626</td>\n",
              "      <td>NaN</td>\n",
              "      <td>Sunny Room in Harlem</td>\n",
              "      <td>Manhattan</td>\n",
              "      <td>Apartment</td>\n",
              "      <td>NaN</td>\n",
              "      <td>Private room</td>\n",
              "      <td>10032.0</td>\n",
              "      <td>1.0</td>\n",
              "      <td>1</td>\n",
              "      <td>1</td>\n",
              "      <td>28</td>\n",
              "      <td>NaN</td>\n",
              "    </tr>\n",
              "    <tr>\n",
              "      <th>3</th>\n",
              "      <td>500</td>\n",
              "      <td>6/26/2008</td>\n",
              "      <td>Gorgeous 1 BR with Private Balcony</td>\n",
              "      <td>Manhattan</td>\n",
              "      <td>Apartment</td>\n",
              "      <td>NaN</td>\n",
              "      <td>Entire home/apt</td>\n",
              "      <td>10024.0</td>\n",
              "      <td>3.0</td>\n",
              "      <td>1</td>\n",
              "      <td>0</td>\n",
              "      <td>199</td>\n",
              "      <td>NaN</td>\n",
              "    </tr>\n",
              "    <tr>\n",
              "      <th>4</th>\n",
              "      <td>500</td>\n",
              "      <td>6/26/2008</td>\n",
              "      <td>Trendy Times Square Loft</td>\n",
              "      <td>Manhattan</td>\n",
              "      <td>Apartment</td>\n",
              "      <td>95.0</td>\n",
              "      <td>Private room</td>\n",
              "      <td>10036.0</td>\n",
              "      <td>3.0</td>\n",
              "      <td>1</td>\n",
              "      <td>39</td>\n",
              "      <td>549</td>\n",
              "      <td>96.0</td>\n",
              "    </tr>\n",
              "  </tbody>\n",
              "</table>\n",
              "</div>\n",
              "    <div class=\"colab-df-buttons\">\n",
              "\n",
              "  <div class=\"colab-df-container\">\n",
              "    <button class=\"colab-df-convert\" onclick=\"convertToInteractive('df-8093b538-d9ea-451b-abdd-4491e72c654d')\"\n",
              "            title=\"Convert this dataframe to an interactive table.\"\n",
              "            style=\"display:none;\">\n",
              "\n",
              "  <svg xmlns=\"http://www.w3.org/2000/svg\" height=\"24px\" viewBox=\"0 -960 960 960\">\n",
              "    <path d=\"M120-120v-720h720v720H120Zm60-500h600v-160H180v160Zm220 220h160v-160H400v160Zm0 220h160v-160H400v160ZM180-400h160v-160H180v160Zm440 0h160v-160H620v160ZM180-180h160v-160H180v160Zm440 0h160v-160H620v160Z\"/>\n",
              "  </svg>\n",
              "    </button>\n",
              "\n",
              "  <style>\n",
              "    .colab-df-container {\n",
              "      display:flex;\n",
              "      gap: 12px;\n",
              "    }\n",
              "\n",
              "    .colab-df-convert {\n",
              "      background-color: #E8F0FE;\n",
              "      border: none;\n",
              "      border-radius: 50%;\n",
              "      cursor: pointer;\n",
              "      display: none;\n",
              "      fill: #1967D2;\n",
              "      height: 32px;\n",
              "      padding: 0 0 0 0;\n",
              "      width: 32px;\n",
              "    }\n",
              "\n",
              "    .colab-df-convert:hover {\n",
              "      background-color: #E2EBFA;\n",
              "      box-shadow: 0px 1px 2px rgba(60, 64, 67, 0.3), 0px 1px 3px 1px rgba(60, 64, 67, 0.15);\n",
              "      fill: #174EA6;\n",
              "    }\n",
              "\n",
              "    .colab-df-buttons div {\n",
              "      margin-bottom: 4px;\n",
              "    }\n",
              "\n",
              "    [theme=dark] .colab-df-convert {\n",
              "      background-color: #3B4455;\n",
              "      fill: #D2E3FC;\n",
              "    }\n",
              "\n",
              "    [theme=dark] .colab-df-convert:hover {\n",
              "      background-color: #434B5C;\n",
              "      box-shadow: 0px 1px 3px 1px rgba(0, 0, 0, 0.15);\n",
              "      filter: drop-shadow(0px 1px 2px rgba(0, 0, 0, 0.3));\n",
              "      fill: #FFFFFF;\n",
              "    }\n",
              "  </style>\n",
              "\n",
              "    <script>\n",
              "      const buttonEl =\n",
              "        document.querySelector('#df-8093b538-d9ea-451b-abdd-4491e72c654d button.colab-df-convert');\n",
              "      buttonEl.style.display =\n",
              "        google.colab.kernel.accessAllowed ? 'block' : 'none';\n",
              "\n",
              "      async function convertToInteractive(key) {\n",
              "        const element = document.querySelector('#df-8093b538-d9ea-451b-abdd-4491e72c654d');\n",
              "        const dataTable =\n",
              "          await google.colab.kernel.invokeFunction('convertToInteractive',\n",
              "                                                    [key], {});\n",
              "        if (!dataTable) return;\n",
              "\n",
              "        const docLinkHtml = 'Like what you see? Visit the ' +\n",
              "          '<a target=\"_blank\" href=https://colab.research.google.com/notebooks/data_table.ipynb>data table notebook</a>'\n",
              "          + ' to learn more about interactive tables.';\n",
              "        element.innerHTML = '';\n",
              "        dataTable['output_type'] = 'display_data';\n",
              "        await google.colab.output.renderOutput(dataTable, element);\n",
              "        const docLink = document.createElement('div');\n",
              "        docLink.innerHTML = docLinkHtml;\n",
              "        element.appendChild(docLink);\n",
              "      }\n",
              "    </script>\n",
              "  </div>\n",
              "\n",
              "\n",
              "<div id=\"df-2489d595-3b6f-4705-a23d-2d674270d953\">\n",
              "  <button class=\"colab-df-quickchart\" onclick=\"quickchart('df-2489d595-3b6f-4705-a23d-2d674270d953')\"\n",
              "            title=\"Suggest charts\"\n",
              "            style=\"display:none;\">\n",
              "\n",
              "<svg xmlns=\"http://www.w3.org/2000/svg\" height=\"24px\"viewBox=\"0 0 24 24\"\n",
              "     width=\"24px\">\n",
              "    <g>\n",
              "        <path d=\"M19 3H5c-1.1 0-2 .9-2 2v14c0 1.1.9 2 2 2h14c1.1 0 2-.9 2-2V5c0-1.1-.9-2-2-2zM9 17H7v-7h2v7zm4 0h-2V7h2v10zm4 0h-2v-4h2v4z\"/>\n",
              "    </g>\n",
              "</svg>\n",
              "  </button>\n",
              "\n",
              "<style>\n",
              "  .colab-df-quickchart {\n",
              "      --bg-color: #E8F0FE;\n",
              "      --fill-color: #1967D2;\n",
              "      --hover-bg-color: #E2EBFA;\n",
              "      --hover-fill-color: #174EA6;\n",
              "      --disabled-fill-color: #AAA;\n",
              "      --disabled-bg-color: #DDD;\n",
              "  }\n",
              "\n",
              "  [theme=dark] .colab-df-quickchart {\n",
              "      --bg-color: #3B4455;\n",
              "      --fill-color: #D2E3FC;\n",
              "      --hover-bg-color: #434B5C;\n",
              "      --hover-fill-color: #FFFFFF;\n",
              "      --disabled-bg-color: #3B4455;\n",
              "      --disabled-fill-color: #666;\n",
              "  }\n",
              "\n",
              "  .colab-df-quickchart {\n",
              "    background-color: var(--bg-color);\n",
              "    border: none;\n",
              "    border-radius: 50%;\n",
              "    cursor: pointer;\n",
              "    display: none;\n",
              "    fill: var(--fill-color);\n",
              "    height: 32px;\n",
              "    padding: 0;\n",
              "    width: 32px;\n",
              "  }\n",
              "\n",
              "  .colab-df-quickchart:hover {\n",
              "    background-color: var(--hover-bg-color);\n",
              "    box-shadow: 0 1px 2px rgba(60, 64, 67, 0.3), 0 1px 3px 1px rgba(60, 64, 67, 0.15);\n",
              "    fill: var(--button-hover-fill-color);\n",
              "  }\n",
              "\n",
              "  .colab-df-quickchart-complete:disabled,\n",
              "  .colab-df-quickchart-complete:disabled:hover {\n",
              "    background-color: var(--disabled-bg-color);\n",
              "    fill: var(--disabled-fill-color);\n",
              "    box-shadow: none;\n",
              "  }\n",
              "\n",
              "  .colab-df-spinner {\n",
              "    border: 2px solid var(--fill-color);\n",
              "    border-color: transparent;\n",
              "    border-bottom-color: var(--fill-color);\n",
              "    animation:\n",
              "      spin 1s steps(1) infinite;\n",
              "  }\n",
              "\n",
              "  @keyframes spin {\n",
              "    0% {\n",
              "      border-color: transparent;\n",
              "      border-bottom-color: var(--fill-color);\n",
              "      border-left-color: var(--fill-color);\n",
              "    }\n",
              "    20% {\n",
              "      border-color: transparent;\n",
              "      border-left-color: var(--fill-color);\n",
              "      border-top-color: var(--fill-color);\n",
              "    }\n",
              "    30% {\n",
              "      border-color: transparent;\n",
              "      border-left-color: var(--fill-color);\n",
              "      border-top-color: var(--fill-color);\n",
              "      border-right-color: var(--fill-color);\n",
              "    }\n",
              "    40% {\n",
              "      border-color: transparent;\n",
              "      border-right-color: var(--fill-color);\n",
              "      border-top-color: var(--fill-color);\n",
              "    }\n",
              "    60% {\n",
              "      border-color: transparent;\n",
              "      border-right-color: var(--fill-color);\n",
              "    }\n",
              "    80% {\n",
              "      border-color: transparent;\n",
              "      border-right-color: var(--fill-color);\n",
              "      border-bottom-color: var(--fill-color);\n",
              "    }\n",
              "    90% {\n",
              "      border-color: transparent;\n",
              "      border-bottom-color: var(--fill-color);\n",
              "    }\n",
              "  }\n",
              "</style>\n",
              "\n",
              "  <script>\n",
              "    async function quickchart(key) {\n",
              "      const quickchartButtonEl =\n",
              "        document.querySelector('#' + key + ' button');\n",
              "      quickchartButtonEl.disabled = true;  // To prevent multiple clicks.\n",
              "      quickchartButtonEl.classList.add('colab-df-spinner');\n",
              "      try {\n",
              "        const charts = await google.colab.kernel.invokeFunction(\n",
              "            'suggestCharts', [key], {});\n",
              "      } catch (error) {\n",
              "        console.error('Error during call to suggestCharts:', error);\n",
              "      }\n",
              "      quickchartButtonEl.classList.remove('colab-df-spinner');\n",
              "      quickchartButtonEl.classList.add('colab-df-quickchart-complete');\n",
              "    }\n",
              "    (() => {\n",
              "      let quickchartButtonEl =\n",
              "        document.querySelector('#df-2489d595-3b6f-4705-a23d-2d674270d953 button');\n",
              "      quickchartButtonEl.style.display =\n",
              "        google.colab.kernel.accessAllowed ? 'block' : 'none';\n",
              "    })();\n",
              "  </script>\n",
              "</div>\n",
              "\n",
              "    </div>\n",
              "  </div>\n"
            ],
            "application/vnd.google.colaboratory.intrinsic+json": {
              "type": "dataframe",
              "variable_name": "df",
              "summary": "{\n  \"name\": \"df\",\n  \"rows\": 30478,\n  \"fields\": [\n    {\n      \"column\": \"Host Id\",\n      \"properties\": {\n        \"dtype\": \"number\",\n        \"std\": 11902702,\n        \"min\": 500,\n        \"max\": 43033067,\n        \"num_unique_values\": 24421,\n        \"samples\": [\n          24093114,\n          16925490,\n          2886652\n        ],\n        \"semantic_type\": \"\",\n        \"description\": \"\"\n      }\n    },\n    {\n      \"column\": \"Host Since\",\n      \"properties\": {\n        \"dtype\": \"date\",\n        \"min\": \"2008-06-26 00:00:00\",\n        \"max\": \"2015-08-31 00:00:00\",\n        \"num_unique_values\": 2240,\n        \"samples\": [\n          \"5/20/2010\",\n          \"7/2/2009\",\n          \"4/18/2015\"\n        ],\n        \"semantic_type\": \"\",\n        \"description\": \"\"\n      }\n    },\n    {\n      \"column\": \"Name\",\n      \"properties\": {\n        \"dtype\": \"string\",\n        \"num_unique_values\": 29413,\n        \"samples\": [\n          \"Explore the beauty of Brooklyn\",\n          \"Sunny Room in Williamsburg Loft\",\n          \"cozy one bedroom in lower east side\"\n        ],\n        \"semantic_type\": \"\",\n        \"description\": \"\"\n      }\n    },\n    {\n      \"column\": \"Neighbourhood \",\n      \"properties\": {\n        \"dtype\": \"category\",\n        \"num_unique_values\": 5,\n        \"samples\": [\n          \"Manhattan\",\n          \"Staten Island\",\n          \"Queens\"\n        ],\n        \"semantic_type\": \"\",\n        \"description\": \"\"\n      }\n    },\n    {\n      \"column\": \"Property Type\",\n      \"properties\": {\n        \"dtype\": \"category\",\n        \"num_unique_values\": 19,\n        \"samples\": [\n          \"Apartment\",\n          \"Condominium\",\n          \"Bungalow\"\n        ],\n        \"semantic_type\": \"\",\n        \"description\": \"\"\n      }\n    },\n    {\n      \"column\": \"Review Scores Rating (bin)\",\n      \"properties\": {\n        \"dtype\": \"number\",\n        \"std\": 9.05951861814779,\n        \"min\": 20.0,\n        \"max\": 100.0,\n        \"num_unique_values\": 15,\n        \"samples\": [\n          40.0,\n          20.0,\n          95.0\n        ],\n        \"semantic_type\": \"\",\n        \"description\": \"\"\n      }\n    },\n    {\n      \"column\": \"Room Type\",\n      \"properties\": {\n        \"dtype\": \"category\",\n        \"num_unique_values\": 3,\n        \"samples\": [\n          \"Entire home/apt\",\n          \"Private room\",\n          \"Shared room\"\n        ],\n        \"semantic_type\": \"\",\n        \"description\": \"\"\n      }\n    },\n    {\n      \"column\": \"Zipcode\",\n      \"properties\": {\n        \"dtype\": \"number\",\n        \"std\": 921.2993969568683,\n        \"min\": 1003.0,\n        \"max\": 99135.0,\n        \"num_unique_values\": 188,\n        \"samples\": [\n          11414.0,\n          11239.0,\n          11365.0\n        ],\n        \"semantic_type\": \"\",\n        \"description\": \"\"\n      }\n    },\n    {\n      \"column\": \"Beds\",\n      \"properties\": {\n        \"dtype\": \"number\",\n        \"std\": 1.0153587174802678,\n        \"min\": 0.0,\n        \"max\": 16.0,\n        \"num_unique_values\": 14,\n        \"samples\": [\n          12.0,\n          16.0,\n          1.0\n        ],\n        \"semantic_type\": \"\",\n        \"description\": \"\"\n      }\n    },\n    {\n      \"column\": \"Number of Records\",\n      \"properties\": {\n        \"dtype\": \"number\",\n        \"std\": 0,\n        \"min\": 1,\n        \"max\": 1,\n        \"num_unique_values\": 1,\n        \"samples\": [\n          1\n        ],\n        \"semantic_type\": \"\",\n        \"description\": \"\"\n      }\n    },\n    {\n      \"column\": \"Number Of Reviews\",\n      \"properties\": {\n        \"dtype\": \"number\",\n        \"std\": 21,\n        \"min\": 0,\n        \"max\": 257,\n        \"num_unique_values\": 205,\n        \"samples\": [\n          171\n        ],\n        \"semantic_type\": \"\",\n        \"description\": \"\"\n      }\n    },\n    {\n      \"column\": \"Price\",\n      \"properties\": {\n        \"dtype\": \"category\",\n        \"num_unique_values\": 511,\n        \"samples\": [\n          \"299\"\n        ],\n        \"semantic_type\": \"\",\n        \"description\": \"\"\n      }\n    },\n    {\n      \"column\": \"Review Scores Rating\",\n      \"properties\": {\n        \"dtype\": \"number\",\n        \"std\": 8.850373136231884,\n        \"min\": 20.0,\n        \"max\": 100.0,\n        \"num_unique_values\": 51,\n        \"samples\": [\n          58.0\n        ],\n        \"semantic_type\": \"\",\n        \"description\": \"\"\n      }\n    }\n  ]\n}"
            }
          },
          "metadata": {},
          "execution_count": 315
        }
      ]
    },
    {
      "cell_type": "code",
      "source": [
        "df.describe()"
      ],
      "metadata": {
        "colab": {
          "base_uri": "https://localhost:8080/",
          "height": 317
        },
        "id": "mcBlXZn0AQc5",
        "outputId": "f2ca2c62-5eb9-46cd-e5ed-c8d6c6764c96"
      },
      "execution_count": 316,
      "outputs": [
        {
          "output_type": "execute_result",
          "data": {
            "text/plain": [
              "            Host Id  Review Scores Rating (bin)       Zipcode          Beds  \\\n",
              "count  3.047800e+04                22155.000000  30344.000000  30393.000000   \n",
              "mean   1.273171e+07                   90.738659  10584.854831      1.530089   \n",
              "std    1.190270e+07                    9.059519    921.299397      1.015359   \n",
              "min    5.000000e+02                   20.000000   1003.000000      0.000000   \n",
              "25%    2.701298e+06                   85.000000  10017.000000      1.000000   \n",
              "50%    8.551693e+06                   90.000000  10065.000000      1.000000   \n",
              "75%    2.120617e+07                  100.000000  11216.000000      2.000000   \n",
              "max    4.303307e+07                  100.000000  99135.000000     16.000000   \n",
              "\n",
              "       Number of Records  Number Of Reviews  Review Scores Rating  \n",
              "count            30478.0       30478.000000          22155.000000  \n",
              "mean                 1.0          12.018735             91.993230  \n",
              "std                  0.0          21.980703              8.850373  \n",
              "min                  1.0           0.000000             20.000000  \n",
              "25%                  1.0           0.000000             89.000000  \n",
              "50%                  1.0           3.000000             94.000000  \n",
              "75%                  1.0          13.000000            100.000000  \n",
              "max                  1.0         257.000000            100.000000  "
            ],
            "text/html": [
              "\n",
              "  <div id=\"df-76ff3070-d146-4ffc-b483-b8c528cb995a\" class=\"colab-df-container\">\n",
              "    <div>\n",
              "<style scoped>\n",
              "    .dataframe tbody tr th:only-of-type {\n",
              "        vertical-align: middle;\n",
              "    }\n",
              "\n",
              "    .dataframe tbody tr th {\n",
              "        vertical-align: top;\n",
              "    }\n",
              "\n",
              "    .dataframe thead th {\n",
              "        text-align: right;\n",
              "    }\n",
              "</style>\n",
              "<table border=\"1\" class=\"dataframe\">\n",
              "  <thead>\n",
              "    <tr style=\"text-align: right;\">\n",
              "      <th></th>\n",
              "      <th>Host Id</th>\n",
              "      <th>Review Scores Rating (bin)</th>\n",
              "      <th>Zipcode</th>\n",
              "      <th>Beds</th>\n",
              "      <th>Number of Records</th>\n",
              "      <th>Number Of Reviews</th>\n",
              "      <th>Review Scores Rating</th>\n",
              "    </tr>\n",
              "  </thead>\n",
              "  <tbody>\n",
              "    <tr>\n",
              "      <th>count</th>\n",
              "      <td>3.047800e+04</td>\n",
              "      <td>22155.000000</td>\n",
              "      <td>30344.000000</td>\n",
              "      <td>30393.000000</td>\n",
              "      <td>30478.0</td>\n",
              "      <td>30478.000000</td>\n",
              "      <td>22155.000000</td>\n",
              "    </tr>\n",
              "    <tr>\n",
              "      <th>mean</th>\n",
              "      <td>1.273171e+07</td>\n",
              "      <td>90.738659</td>\n",
              "      <td>10584.854831</td>\n",
              "      <td>1.530089</td>\n",
              "      <td>1.0</td>\n",
              "      <td>12.018735</td>\n",
              "      <td>91.993230</td>\n",
              "    </tr>\n",
              "    <tr>\n",
              "      <th>std</th>\n",
              "      <td>1.190270e+07</td>\n",
              "      <td>9.059519</td>\n",
              "      <td>921.299397</td>\n",
              "      <td>1.015359</td>\n",
              "      <td>0.0</td>\n",
              "      <td>21.980703</td>\n",
              "      <td>8.850373</td>\n",
              "    </tr>\n",
              "    <tr>\n",
              "      <th>min</th>\n",
              "      <td>5.000000e+02</td>\n",
              "      <td>20.000000</td>\n",
              "      <td>1003.000000</td>\n",
              "      <td>0.000000</td>\n",
              "      <td>1.0</td>\n",
              "      <td>0.000000</td>\n",
              "      <td>20.000000</td>\n",
              "    </tr>\n",
              "    <tr>\n",
              "      <th>25%</th>\n",
              "      <td>2.701298e+06</td>\n",
              "      <td>85.000000</td>\n",
              "      <td>10017.000000</td>\n",
              "      <td>1.000000</td>\n",
              "      <td>1.0</td>\n",
              "      <td>0.000000</td>\n",
              "      <td>89.000000</td>\n",
              "    </tr>\n",
              "    <tr>\n",
              "      <th>50%</th>\n",
              "      <td>8.551693e+06</td>\n",
              "      <td>90.000000</td>\n",
              "      <td>10065.000000</td>\n",
              "      <td>1.000000</td>\n",
              "      <td>1.0</td>\n",
              "      <td>3.000000</td>\n",
              "      <td>94.000000</td>\n",
              "    </tr>\n",
              "    <tr>\n",
              "      <th>75%</th>\n",
              "      <td>2.120617e+07</td>\n",
              "      <td>100.000000</td>\n",
              "      <td>11216.000000</td>\n",
              "      <td>2.000000</td>\n",
              "      <td>1.0</td>\n",
              "      <td>13.000000</td>\n",
              "      <td>100.000000</td>\n",
              "    </tr>\n",
              "    <tr>\n",
              "      <th>max</th>\n",
              "      <td>4.303307e+07</td>\n",
              "      <td>100.000000</td>\n",
              "      <td>99135.000000</td>\n",
              "      <td>16.000000</td>\n",
              "      <td>1.0</td>\n",
              "      <td>257.000000</td>\n",
              "      <td>100.000000</td>\n",
              "    </tr>\n",
              "  </tbody>\n",
              "</table>\n",
              "</div>\n",
              "    <div class=\"colab-df-buttons\">\n",
              "\n",
              "  <div class=\"colab-df-container\">\n",
              "    <button class=\"colab-df-convert\" onclick=\"convertToInteractive('df-76ff3070-d146-4ffc-b483-b8c528cb995a')\"\n",
              "            title=\"Convert this dataframe to an interactive table.\"\n",
              "            style=\"display:none;\">\n",
              "\n",
              "  <svg xmlns=\"http://www.w3.org/2000/svg\" height=\"24px\" viewBox=\"0 -960 960 960\">\n",
              "    <path d=\"M120-120v-720h720v720H120Zm60-500h600v-160H180v160Zm220 220h160v-160H400v160Zm0 220h160v-160H400v160ZM180-400h160v-160H180v160Zm440 0h160v-160H620v160ZM180-180h160v-160H180v160Zm440 0h160v-160H620v160Z\"/>\n",
              "  </svg>\n",
              "    </button>\n",
              "\n",
              "  <style>\n",
              "    .colab-df-container {\n",
              "      display:flex;\n",
              "      gap: 12px;\n",
              "    }\n",
              "\n",
              "    .colab-df-convert {\n",
              "      background-color: #E8F0FE;\n",
              "      border: none;\n",
              "      border-radius: 50%;\n",
              "      cursor: pointer;\n",
              "      display: none;\n",
              "      fill: #1967D2;\n",
              "      height: 32px;\n",
              "      padding: 0 0 0 0;\n",
              "      width: 32px;\n",
              "    }\n",
              "\n",
              "    .colab-df-convert:hover {\n",
              "      background-color: #E2EBFA;\n",
              "      box-shadow: 0px 1px 2px rgba(60, 64, 67, 0.3), 0px 1px 3px 1px rgba(60, 64, 67, 0.15);\n",
              "      fill: #174EA6;\n",
              "    }\n",
              "\n",
              "    .colab-df-buttons div {\n",
              "      margin-bottom: 4px;\n",
              "    }\n",
              "\n",
              "    [theme=dark] .colab-df-convert {\n",
              "      background-color: #3B4455;\n",
              "      fill: #D2E3FC;\n",
              "    }\n",
              "\n",
              "    [theme=dark] .colab-df-convert:hover {\n",
              "      background-color: #434B5C;\n",
              "      box-shadow: 0px 1px 3px 1px rgba(0, 0, 0, 0.15);\n",
              "      filter: drop-shadow(0px 1px 2px rgba(0, 0, 0, 0.3));\n",
              "      fill: #FFFFFF;\n",
              "    }\n",
              "  </style>\n",
              "\n",
              "    <script>\n",
              "      const buttonEl =\n",
              "        document.querySelector('#df-76ff3070-d146-4ffc-b483-b8c528cb995a button.colab-df-convert');\n",
              "      buttonEl.style.display =\n",
              "        google.colab.kernel.accessAllowed ? 'block' : 'none';\n",
              "\n",
              "      async function convertToInteractive(key) {\n",
              "        const element = document.querySelector('#df-76ff3070-d146-4ffc-b483-b8c528cb995a');\n",
              "        const dataTable =\n",
              "          await google.colab.kernel.invokeFunction('convertToInteractive',\n",
              "                                                    [key], {});\n",
              "        if (!dataTable) return;\n",
              "\n",
              "        const docLinkHtml = 'Like what you see? Visit the ' +\n",
              "          '<a target=\"_blank\" href=https://colab.research.google.com/notebooks/data_table.ipynb>data table notebook</a>'\n",
              "          + ' to learn more about interactive tables.';\n",
              "        element.innerHTML = '';\n",
              "        dataTable['output_type'] = 'display_data';\n",
              "        await google.colab.output.renderOutput(dataTable, element);\n",
              "        const docLink = document.createElement('div');\n",
              "        docLink.innerHTML = docLinkHtml;\n",
              "        element.appendChild(docLink);\n",
              "      }\n",
              "    </script>\n",
              "  </div>\n",
              "\n",
              "\n",
              "<div id=\"df-77019ccc-eba5-4a4e-a40f-79b8be10a761\">\n",
              "  <button class=\"colab-df-quickchart\" onclick=\"quickchart('df-77019ccc-eba5-4a4e-a40f-79b8be10a761')\"\n",
              "            title=\"Suggest charts\"\n",
              "            style=\"display:none;\">\n",
              "\n",
              "<svg xmlns=\"http://www.w3.org/2000/svg\" height=\"24px\"viewBox=\"0 0 24 24\"\n",
              "     width=\"24px\">\n",
              "    <g>\n",
              "        <path d=\"M19 3H5c-1.1 0-2 .9-2 2v14c0 1.1.9 2 2 2h14c1.1 0 2-.9 2-2V5c0-1.1-.9-2-2-2zM9 17H7v-7h2v7zm4 0h-2V7h2v10zm4 0h-2v-4h2v4z\"/>\n",
              "    </g>\n",
              "</svg>\n",
              "  </button>\n",
              "\n",
              "<style>\n",
              "  .colab-df-quickchart {\n",
              "      --bg-color: #E8F0FE;\n",
              "      --fill-color: #1967D2;\n",
              "      --hover-bg-color: #E2EBFA;\n",
              "      --hover-fill-color: #174EA6;\n",
              "      --disabled-fill-color: #AAA;\n",
              "      --disabled-bg-color: #DDD;\n",
              "  }\n",
              "\n",
              "  [theme=dark] .colab-df-quickchart {\n",
              "      --bg-color: #3B4455;\n",
              "      --fill-color: #D2E3FC;\n",
              "      --hover-bg-color: #434B5C;\n",
              "      --hover-fill-color: #FFFFFF;\n",
              "      --disabled-bg-color: #3B4455;\n",
              "      --disabled-fill-color: #666;\n",
              "  }\n",
              "\n",
              "  .colab-df-quickchart {\n",
              "    background-color: var(--bg-color);\n",
              "    border: none;\n",
              "    border-radius: 50%;\n",
              "    cursor: pointer;\n",
              "    display: none;\n",
              "    fill: var(--fill-color);\n",
              "    height: 32px;\n",
              "    padding: 0;\n",
              "    width: 32px;\n",
              "  }\n",
              "\n",
              "  .colab-df-quickchart:hover {\n",
              "    background-color: var(--hover-bg-color);\n",
              "    box-shadow: 0 1px 2px rgba(60, 64, 67, 0.3), 0 1px 3px 1px rgba(60, 64, 67, 0.15);\n",
              "    fill: var(--button-hover-fill-color);\n",
              "  }\n",
              "\n",
              "  .colab-df-quickchart-complete:disabled,\n",
              "  .colab-df-quickchart-complete:disabled:hover {\n",
              "    background-color: var(--disabled-bg-color);\n",
              "    fill: var(--disabled-fill-color);\n",
              "    box-shadow: none;\n",
              "  }\n",
              "\n",
              "  .colab-df-spinner {\n",
              "    border: 2px solid var(--fill-color);\n",
              "    border-color: transparent;\n",
              "    border-bottom-color: var(--fill-color);\n",
              "    animation:\n",
              "      spin 1s steps(1) infinite;\n",
              "  }\n",
              "\n",
              "  @keyframes spin {\n",
              "    0% {\n",
              "      border-color: transparent;\n",
              "      border-bottom-color: var(--fill-color);\n",
              "      border-left-color: var(--fill-color);\n",
              "    }\n",
              "    20% {\n",
              "      border-color: transparent;\n",
              "      border-left-color: var(--fill-color);\n",
              "      border-top-color: var(--fill-color);\n",
              "    }\n",
              "    30% {\n",
              "      border-color: transparent;\n",
              "      border-left-color: var(--fill-color);\n",
              "      border-top-color: var(--fill-color);\n",
              "      border-right-color: var(--fill-color);\n",
              "    }\n",
              "    40% {\n",
              "      border-color: transparent;\n",
              "      border-right-color: var(--fill-color);\n",
              "      border-top-color: var(--fill-color);\n",
              "    }\n",
              "    60% {\n",
              "      border-color: transparent;\n",
              "      border-right-color: var(--fill-color);\n",
              "    }\n",
              "    80% {\n",
              "      border-color: transparent;\n",
              "      border-right-color: var(--fill-color);\n",
              "      border-bottom-color: var(--fill-color);\n",
              "    }\n",
              "    90% {\n",
              "      border-color: transparent;\n",
              "      border-bottom-color: var(--fill-color);\n",
              "    }\n",
              "  }\n",
              "</style>\n",
              "\n",
              "  <script>\n",
              "    async function quickchart(key) {\n",
              "      const quickchartButtonEl =\n",
              "        document.querySelector('#' + key + ' button');\n",
              "      quickchartButtonEl.disabled = true;  // To prevent multiple clicks.\n",
              "      quickchartButtonEl.classList.add('colab-df-spinner');\n",
              "      try {\n",
              "        const charts = await google.colab.kernel.invokeFunction(\n",
              "            'suggestCharts', [key], {});\n",
              "      } catch (error) {\n",
              "        console.error('Error during call to suggestCharts:', error);\n",
              "      }\n",
              "      quickchartButtonEl.classList.remove('colab-df-spinner');\n",
              "      quickchartButtonEl.classList.add('colab-df-quickchart-complete');\n",
              "    }\n",
              "    (() => {\n",
              "      let quickchartButtonEl =\n",
              "        document.querySelector('#df-77019ccc-eba5-4a4e-a40f-79b8be10a761 button');\n",
              "      quickchartButtonEl.style.display =\n",
              "        google.colab.kernel.accessAllowed ? 'block' : 'none';\n",
              "    })();\n",
              "  </script>\n",
              "</div>\n",
              "\n",
              "    </div>\n",
              "  </div>\n"
            ],
            "application/vnd.google.colaboratory.intrinsic+json": {
              "type": "dataframe",
              "summary": "{\n  \"name\": \"df\",\n  \"rows\": 8,\n  \"fields\": [\n    {\n      \"column\": \"Host Id\",\n      \"properties\": {\n        \"dtype\": \"number\",\n        \"std\": 14301863.57568195,\n        \"min\": 500.0,\n        \"max\": 43033067.0,\n        \"num_unique_values\": 8,\n        \"samples\": [\n          12731707.88224293,\n          8551693.0,\n          30478.0\n        ],\n        \"semantic_type\": \"\",\n        \"description\": \"\"\n      }\n    },\n    {\n      \"column\": \"Review Scores Rating (bin)\",\n      \"properties\": {\n        \"dtype\": \"number\",\n        \"std\": 7808.0672191451395,\n        \"min\": 9.05951861814779,\n        \"max\": 22155.0,\n        \"num_unique_values\": 7,\n        \"samples\": [\n          22155.0,\n          90.73865944482058,\n          90.0\n        ],\n        \"semantic_type\": \"\",\n        \"description\": \"\"\n      }\n    },\n    {\n      \"column\": \"Zipcode\",\n      \"properties\": {\n        \"dtype\": \"number\",\n        \"std\": 32593.453064067136,\n        \"min\": 921.2993969568683,\n        \"max\": 99135.0,\n        \"num_unique_values\": 8,\n        \"samples\": [\n          10584.854831268125,\n          10065.0,\n          30344.0\n        ],\n        \"semantic_type\": \"\",\n        \"description\": \"\"\n      }\n    },\n    {\n      \"column\": \"Beds\",\n      \"properties\": {\n        \"dtype\": \"number\",\n        \"std\": 10744.410764676,\n        \"min\": 0.0,\n        \"max\": 30393.0,\n        \"num_unique_values\": 7,\n        \"samples\": [\n          30393.0,\n          1.5300891652683184,\n          2.0\n        ],\n        \"semantic_type\": \"\",\n        \"description\": \"\"\n      }\n    },\n    {\n      \"column\": \"Number of Records\",\n      \"properties\": {\n        \"dtype\": \"number\",\n        \"std\": 10775.297198420363,\n        \"min\": 0.0,\n        \"max\": 30478.0,\n        \"num_unique_values\": 3,\n        \"samples\": [\n          30478.0,\n          1.0,\n          0.0\n        ],\n        \"semantic_type\": \"\",\n        \"description\": \"\"\n      }\n    },\n    {\n      \"column\": \"Number Of Reviews\",\n      \"properties\": {\n        \"dtype\": \"number\",\n        \"std\": 10760.448840897026,\n        \"min\": 0.0,\n        \"max\": 30478.0,\n        \"num_unique_values\": 7,\n        \"samples\": [\n          30478.0,\n          12.018734825119758,\n          13.0\n        ],\n        \"semantic_type\": \"\",\n        \"description\": \"\"\n      }\n    },\n    {\n      \"column\": \"Review Scores Rating\",\n      \"properties\": {\n        \"dtype\": \"number\",\n        \"std\": 7807.6137191039525,\n        \"min\": 8.850373136231884,\n        \"max\": 22155.0,\n        \"num_unique_values\": 7,\n        \"samples\": [\n          22155.0,\n          91.99322951929587,\n          94.0\n        ],\n        \"semantic_type\": \"\",\n        \"description\": \"\"\n      }\n    }\n  ]\n}"
            }
          },
          "metadata": {},
          "execution_count": 316
        }
      ]
    },
    {
      "cell_type": "code",
      "source": [
        "df.columns"
      ],
      "metadata": {
        "colab": {
          "base_uri": "https://localhost:8080/"
        },
        "id": "3B4DT9BQ0Kq-",
        "outputId": "647541f0-e16d-454c-b95a-e7f0c469afb5"
      },
      "execution_count": 317,
      "outputs": [
        {
          "output_type": "execute_result",
          "data": {
            "text/plain": [
              "Index(['Host Id', 'Host Since', 'Name', 'Neighbourhood ', 'Property Type',\n",
              "       'Review Scores Rating (bin)', 'Room Type', 'Zipcode', 'Beds',\n",
              "       'Number of Records', 'Number Of Reviews', 'Price',\n",
              "       'Review Scores Rating'],\n",
              "      dtype='object')"
            ]
          },
          "metadata": {},
          "execution_count": 317
        }
      ]
    },
    {
      "cell_type": "code",
      "source": [
        "df.dtypes"
      ],
      "metadata": {
        "colab": {
          "base_uri": "https://localhost:8080/",
          "height": 491
        },
        "id": "kbswS9hVCPqP",
        "outputId": "244deffd-04a6-4ca0-9077-ff88ce5789f5"
      },
      "execution_count": 318,
      "outputs": [
        {
          "output_type": "execute_result",
          "data": {
            "text/plain": [
              "Host Id                         int64\n",
              "Host Since                     object\n",
              "Name                           object\n",
              "Neighbourhood                  object\n",
              "Property Type                  object\n",
              "Review Scores Rating (bin)    float64\n",
              "Room Type                      object\n",
              "Zipcode                       float64\n",
              "Beds                          float64\n",
              "Number of Records               int64\n",
              "Number Of Reviews               int64\n",
              "Price                          object\n",
              "Review Scores Rating          float64\n",
              "dtype: object"
            ],
            "text/html": [
              "<div>\n",
              "<style scoped>\n",
              "    .dataframe tbody tr th:only-of-type {\n",
              "        vertical-align: middle;\n",
              "    }\n",
              "\n",
              "    .dataframe tbody tr th {\n",
              "        vertical-align: top;\n",
              "    }\n",
              "\n",
              "    .dataframe thead th {\n",
              "        text-align: right;\n",
              "    }\n",
              "</style>\n",
              "<table border=\"1\" class=\"dataframe\">\n",
              "  <thead>\n",
              "    <tr style=\"text-align: right;\">\n",
              "      <th></th>\n",
              "      <th>0</th>\n",
              "    </tr>\n",
              "  </thead>\n",
              "  <tbody>\n",
              "    <tr>\n",
              "      <th>Host Id</th>\n",
              "      <td>int64</td>\n",
              "    </tr>\n",
              "    <tr>\n",
              "      <th>Host Since</th>\n",
              "      <td>object</td>\n",
              "    </tr>\n",
              "    <tr>\n",
              "      <th>Name</th>\n",
              "      <td>object</td>\n",
              "    </tr>\n",
              "    <tr>\n",
              "      <th>Neighbourhood</th>\n",
              "      <td>object</td>\n",
              "    </tr>\n",
              "    <tr>\n",
              "      <th>Property Type</th>\n",
              "      <td>object</td>\n",
              "    </tr>\n",
              "    <tr>\n",
              "      <th>Review Scores Rating (bin)</th>\n",
              "      <td>float64</td>\n",
              "    </tr>\n",
              "    <tr>\n",
              "      <th>Room Type</th>\n",
              "      <td>object</td>\n",
              "    </tr>\n",
              "    <tr>\n",
              "      <th>Zipcode</th>\n",
              "      <td>float64</td>\n",
              "    </tr>\n",
              "    <tr>\n",
              "      <th>Beds</th>\n",
              "      <td>float64</td>\n",
              "    </tr>\n",
              "    <tr>\n",
              "      <th>Number of Records</th>\n",
              "      <td>int64</td>\n",
              "    </tr>\n",
              "    <tr>\n",
              "      <th>Number Of Reviews</th>\n",
              "      <td>int64</td>\n",
              "    </tr>\n",
              "    <tr>\n",
              "      <th>Price</th>\n",
              "      <td>object</td>\n",
              "    </tr>\n",
              "    <tr>\n",
              "      <th>Review Scores Rating</th>\n",
              "      <td>float64</td>\n",
              "    </tr>\n",
              "  </tbody>\n",
              "</table>\n",
              "</div><br><label><b>dtype:</b> object</label>"
            ]
          },
          "metadata": {},
          "execution_count": 318
        }
      ]
    },
    {
      "cell_type": "code",
      "source": [
        "df['Review Scores Rating (bin)'].unique()"
      ],
      "metadata": {
        "colab": {
          "base_uri": "https://localhost:8080/"
        },
        "id": "lCEMRwrKEfsd",
        "outputId": "4a3b59f6-41fc-4d38-b451-5a8272362384"
      },
      "execution_count": 319,
      "outputs": [
        {
          "output_type": "execute_result",
          "data": {
            "text/plain": [
              "array([ nan,  95., 100.,  90.,  85.,  80.,  75.,  65.,  70.,  60.,  40.,\n",
              "        50.,  20.,  55.,  45.,  30.])"
            ]
          },
          "metadata": {},
          "execution_count": 319
        }
      ]
    },
    {
      "cell_type": "code",
      "source": [
        "df['Review Scores Rating'].unique()"
      ],
      "metadata": {
        "colab": {
          "base_uri": "https://localhost:8080/"
        },
        "id": "ITQdpEzhExQ7",
        "outputId": "c4517483-6019-4740-c08b-e6a92c4f1ff3"
      },
      "execution_count": 320,
      "outputs": [
        {
          "output_type": "execute_result",
          "data": {
            "text/plain": [
              "array([ nan,  96., 100.,  94.,  90.,  98.,  93.,  91.,  97.,  95.,  99.,\n",
              "        85.,  86.,  80.,  88.,  92.,  89.,  82.,  87.,  81.,  76.,  78.,\n",
              "        83.,  66.,  84.,  72.,  79.,  60.,  40.,  62.,  74.,  77.,  50.,\n",
              "        71.,  75.,  73.,  69.,  65.,  68.,  70.,  67.,  64.,  20.,  57.,\n",
              "        58.,  43.,  63.,  55.,  47.,  53.,  49.,  30.])"
            ]
          },
          "metadata": {},
          "execution_count": 320
        }
      ]
    },
    {
      "cell_type": "code",
      "source": [
        "df['Price'].unique()"
      ],
      "metadata": {
        "colab": {
          "base_uri": "https://localhost:8080/"
        },
        "id": "xvtMDAzsBsfd",
        "outputId": "0399b6c8-1c4f-49bf-e139-d14143e773dc"
      },
      "execution_count": 321,
      "outputs": [
        {
          "output_type": "execute_result",
          "data": {
            "text/plain": [
              "array(['145', '37', '28', '199', '549', '149', '250', '90', '270', '290',\n",
              "       '170', '59', '49', '68', '285', '75', '100', '150', '700', '125',\n",
              "       '175', '40', '89', '95', '99', '499', '120', '79', '110', '180',\n",
              "       '143', '230', '350', '135', '85', '60', '70', '55', '44', '200',\n",
              "       '165', '115', '74', '84', '129', '50', '185', '80', '190', '140',\n",
              "       '45', '65', '225', '600', '109', '1,990', '73', '240', '72', '105',\n",
              "       '155', '160', '42', '132', '117', '295', '280', '159', '107', '69',\n",
              "       '239', '220', '399', '130', '375', '585', '275', '139', '260',\n",
              "       '35', '133', '300', '289', '179', '98', '195', '29', '27', '39',\n",
              "       '249', '192', '142', '169', '1,000', '131', '138', '113', '122',\n",
              "       '329', '101', '475', '238', '272', '308', '126', '235', '315',\n",
              "       '248', '128', '56', '207', '450', '215', '210', '385', '445',\n",
              "       '136', '247', '118', '77', '76', '92', '198', '205', '299', '222',\n",
              "       '245', '104', '153', '349', '114', '320', '292', '226', '420',\n",
              "       '500', '325', '307', '78', '265', '108', '123', '189', '32', '58',\n",
              "       '86', '219', '800', '335', '63', '229', '425', '67', '87', '1,200',\n",
              "       '158', '650', '234', '310', '695', '400', '166', '119', '62',\n",
              "       '168', '340', '479', '43', '395', '144', '52', '47', '529', '187',\n",
              "       '209', '233', '82', '269', '163', '172', '305', '156', '550',\n",
              "       '435', '137', '124', '48', '279', '330', '5,000', '134', '378',\n",
              "       '97', '277', '64', '193', '147', '186', '264', '30', '3,000',\n",
              "       '112', '94', '379', '57', '415', '236', '410', '214', '88', '66',\n",
              "       '71', '171', '157', '545', '1,500', '83', '96', '1,800', '81',\n",
              "       '188', '380', '255', '505', '54', '33', '174', '93', '740', '640',\n",
              "       '1,300', '440', '599', '357', '1,239', '495', '127', '5,999',\n",
              "       '178', '348', '152', '242', '183', '253', '750', '259', '365',\n",
              "       '273', '197', '397', '103', '389', '355', '559', '38', '203',\n",
              "       '999', '141', '162', '333', '698', '46', '360', '895', '10', '41',\n",
              "       '206', '281', '449', '388', '212', '102', '201', '2,750', '4,750',\n",
              "       '432', '675', '167', '390', '298', '339', '194', '302', '211',\n",
              "       '595', '191', '53', '361', '480', '8,000', '4,500', '459', '997',\n",
              "       '345', '216', '218', '111', '735', '276', '91', '490', '850',\n",
              "       '398', '36', '775', '267', '625', '336', '2,500', '176', '725',\n",
              "       '3,750', '469', '106', '460', '287', '575', '227', '263', '25',\n",
              "       '228', '208', '177', '880', '148', '116', '685', '470', '217',\n",
              "       '164', '61', '645', '699', '405', '252', '319', '268', '419',\n",
              "       '343', '525', '311', '840', '154', '294', '950', '409', '184',\n",
              "       '257', '204', '241', '2,000', '412', '121', '288', '196', '900',\n",
              "       '647', '524', '1,750', '309', '510', '1,495', '1,700', '799',\n",
              "       '383', '372', '492', '327', '1,999', '656', '224', '173', '875',\n",
              "       '1,170', '795', '690', '146', '465', '1,100', '151', '274', '429',\n",
              "       '825', '282', '256', '1,111', '620', '271', '161', '51', '855',\n",
              "       '579', '1,174', '430', '20', '899', '649', '485', '181', '455',\n",
              "       '4,000', '243', '342', '590', '560', '374', '437', '232', '359',\n",
              "       '985', '31', '244', '254', '723', '237', '428', '370', '34',\n",
              "       '1,400', '580', '2,520', '221', '749', '1,600', '2,695', '306',\n",
              "       '202', '680', '570', '520', '223', '2,295', '213', '1,065', '346',\n",
              "       '24', '286', '296', '266', '26', '995', '1,368', '393', '182',\n",
              "       '635', '258', '780', '589', '347', '1,250', '1,350', '446',\n",
              "       '3,200', '1,050', '1,650', '1,550', '975', '323', '6,500', '2,499',\n",
              "       '1,850', '2,250', '715', '461', '540', '356', '439', '384', '569',\n",
              "       '1,900', '22', '785', '626', '830', '318', '444', '321', '401',\n",
              "       '1,499', '888', '369', '770', '386', '366', '344', '630', '313',\n",
              "       '597', '262', '509', '10,000', '278', '312', '789', '1,195', '422',\n",
              "       '21', '765', '3,500', '945', '326', '3,100', '2,486', '3,390',\n",
              "       '1,356', '2,599', '472', '454', '328', '396', '291'], dtype=object)"
            ]
          },
          "metadata": {},
          "execution_count": 321
        }
      ]
    },
    {
      "cell_type": "markdown",
      "source": [
        "## Removing Characters from the Price Variable"
      ],
      "metadata": {
        "id": "5Q3Ur_A6N6qL"
      }
    },
    {
      "cell_type": "code",
      "source": [
        "df['Price'] = df['Price'].str.replace(\",\", \"\")\n",
        "df['Price'] = pd.to_numeric(df['Price'], errors = 'coerce')"
      ],
      "metadata": {
        "id": "c308FG9DCVto"
      },
      "execution_count": 322,
      "outputs": []
    },
    {
      "cell_type": "markdown",
      "source": [
        "## Removing Space from Neighborhood Name"
      ],
      "metadata": {
        "id": "do559A4kSIdh"
      }
    },
    {
      "cell_type": "code",
      "source": [
        "df['Neighborhood'] = df['Neighbourhood ']"
      ],
      "metadata": {
        "id": "rm6g_sE3SO7L"
      },
      "execution_count": 323,
      "outputs": []
    },
    {
      "cell_type": "markdown",
      "source": [
        "## Changing the Hosting Since Variable to Years as a Host"
      ],
      "metadata": {
        "id": "ZCnXmBYfOXEa"
      }
    },
    {
      "cell_type": "code",
      "source": [
        "df['Start Year'] = pd.to_numeric(df['Host Since'].str[-4:])\n",
        "df['Years Hosting'] = 2025-df['Start Year']\n",
        "df = df.drop(columns=['Host Since'])"
      ],
      "metadata": {
        "id": "FSvXY3YLOcXb"
      },
      "execution_count": 324,
      "outputs": []
    },
    {
      "cell_type": "code",
      "source": [
        "df.columns\n"
      ],
      "metadata": {
        "colab": {
          "base_uri": "https://localhost:8080/"
        },
        "id": "1iDHjz2ic49o",
        "outputId": "a686d22f-e349-41c7-b716-936bcd874821"
      },
      "execution_count": 325,
      "outputs": [
        {
          "output_type": "execute_result",
          "data": {
            "text/plain": [
              "Index(['Host Id', 'Name', 'Neighbourhood ', 'Property Type',\n",
              "       'Review Scores Rating (bin)', 'Room Type', 'Zipcode', 'Beds',\n",
              "       'Number of Records', 'Number Of Reviews', 'Price',\n",
              "       'Review Scores Rating', 'Neighborhood', 'Start Year', 'Years Hosting'],\n",
              "      dtype='object')"
            ]
          },
          "metadata": {},
          "execution_count": 325
        }
      ]
    },
    {
      "cell_type": "markdown",
      "source": [
        "## Dealing with Missing Values"
      ],
      "metadata": {
        "id": "_xE7BlfoNFN0"
      }
    },
    {
      "cell_type": "code",
      "source": [
        "print(len(df))"
      ],
      "metadata": {
        "colab": {
          "base_uri": "https://localhost:8080/"
        },
        "id": "uxWBH-KeDTSY",
        "outputId": "3998ed30-a0ec-488b-e35d-3ca44115ff2e"
      },
      "execution_count": 326,
      "outputs": [
        {
          "output_type": "stream",
          "name": "stdout",
          "text": [
            "30478\n"
          ]
        }
      ]
    },
    {
      "cell_type": "code",
      "source": [
        "df.isna().sum()"
      ],
      "metadata": {
        "colab": {
          "base_uri": "https://localhost:8080/",
          "height": 554
        },
        "id": "zH3plx1aDQYb",
        "outputId": "559ccf08-9dd8-42e1-d897-409d542a4da4"
      },
      "execution_count": 327,
      "outputs": [
        {
          "output_type": "execute_result",
          "data": {
            "text/plain": [
              "Host Id                          0\n",
              "Name                             0\n",
              "Neighbourhood                    0\n",
              "Property Type                    3\n",
              "Review Scores Rating (bin)    8323\n",
              "Room Type                        0\n",
              "Zipcode                        134\n",
              "Beds                            85\n",
              "Number of Records                0\n",
              "Number Of Reviews                0\n",
              "Price                            0\n",
              "Review Scores Rating          8323\n",
              "Neighborhood                     0\n",
              "Start Year                       3\n",
              "Years Hosting                    3\n",
              "dtype: int64"
            ],
            "text/html": [
              "<div>\n",
              "<style scoped>\n",
              "    .dataframe tbody tr th:only-of-type {\n",
              "        vertical-align: middle;\n",
              "    }\n",
              "\n",
              "    .dataframe tbody tr th {\n",
              "        vertical-align: top;\n",
              "    }\n",
              "\n",
              "    .dataframe thead th {\n",
              "        text-align: right;\n",
              "    }\n",
              "</style>\n",
              "<table border=\"1\" class=\"dataframe\">\n",
              "  <thead>\n",
              "    <tr style=\"text-align: right;\">\n",
              "      <th></th>\n",
              "      <th>0</th>\n",
              "    </tr>\n",
              "  </thead>\n",
              "  <tbody>\n",
              "    <tr>\n",
              "      <th>Host Id</th>\n",
              "      <td>0</td>\n",
              "    </tr>\n",
              "    <tr>\n",
              "      <th>Name</th>\n",
              "      <td>0</td>\n",
              "    </tr>\n",
              "    <tr>\n",
              "      <th>Neighbourhood</th>\n",
              "      <td>0</td>\n",
              "    </tr>\n",
              "    <tr>\n",
              "      <th>Property Type</th>\n",
              "      <td>3</td>\n",
              "    </tr>\n",
              "    <tr>\n",
              "      <th>Review Scores Rating (bin)</th>\n",
              "      <td>8323</td>\n",
              "    </tr>\n",
              "    <tr>\n",
              "      <th>Room Type</th>\n",
              "      <td>0</td>\n",
              "    </tr>\n",
              "    <tr>\n",
              "      <th>Zipcode</th>\n",
              "      <td>134</td>\n",
              "    </tr>\n",
              "    <tr>\n",
              "      <th>Beds</th>\n",
              "      <td>85</td>\n",
              "    </tr>\n",
              "    <tr>\n",
              "      <th>Number of Records</th>\n",
              "      <td>0</td>\n",
              "    </tr>\n",
              "    <tr>\n",
              "      <th>Number Of Reviews</th>\n",
              "      <td>0</td>\n",
              "    </tr>\n",
              "    <tr>\n",
              "      <th>Price</th>\n",
              "      <td>0</td>\n",
              "    </tr>\n",
              "    <tr>\n",
              "      <th>Review Scores Rating</th>\n",
              "      <td>8323</td>\n",
              "    </tr>\n",
              "    <tr>\n",
              "      <th>Neighborhood</th>\n",
              "      <td>0</td>\n",
              "    </tr>\n",
              "    <tr>\n",
              "      <th>Start Year</th>\n",
              "      <td>3</td>\n",
              "    </tr>\n",
              "    <tr>\n",
              "      <th>Years Hosting</th>\n",
              "      <td>3</td>\n",
              "    </tr>\n",
              "  </tbody>\n",
              "</table>\n",
              "</div><br><label><b>dtype:</b> int64</label>"
            ]
          },
          "metadata": {},
          "execution_count": 327
        }
      ]
    },
    {
      "cell_type": "code",
      "source": [
        "df.dropna()\n",
        "df.dropna(inplace=True)"
      ],
      "metadata": {
        "id": "9vHua2MYIc8V"
      },
      "execution_count": 328,
      "outputs": []
    },
    {
      "cell_type": "code",
      "source": [
        "df.isna().sum()"
      ],
      "metadata": {
        "colab": {
          "base_uri": "https://localhost:8080/",
          "height": 554
        },
        "id": "c_L5NPwxIse7",
        "outputId": "4ee654fa-1afd-4492-ac3c-0c63c0e35fdc"
      },
      "execution_count": 329,
      "outputs": [
        {
          "output_type": "execute_result",
          "data": {
            "text/plain": [
              "Host Id                       0\n",
              "Name                          0\n",
              "Neighbourhood                 0\n",
              "Property Type                 0\n",
              "Review Scores Rating (bin)    0\n",
              "Room Type                     0\n",
              "Zipcode                       0\n",
              "Beds                          0\n",
              "Number of Records             0\n",
              "Number Of Reviews             0\n",
              "Price                         0\n",
              "Review Scores Rating          0\n",
              "Neighborhood                  0\n",
              "Start Year                    0\n",
              "Years Hosting                 0\n",
              "dtype: int64"
            ],
            "text/html": [
              "<div>\n",
              "<style scoped>\n",
              "    .dataframe tbody tr th:only-of-type {\n",
              "        vertical-align: middle;\n",
              "    }\n",
              "\n",
              "    .dataframe tbody tr th {\n",
              "        vertical-align: top;\n",
              "    }\n",
              "\n",
              "    .dataframe thead th {\n",
              "        text-align: right;\n",
              "    }\n",
              "</style>\n",
              "<table border=\"1\" class=\"dataframe\">\n",
              "  <thead>\n",
              "    <tr style=\"text-align: right;\">\n",
              "      <th></th>\n",
              "      <th>0</th>\n",
              "    </tr>\n",
              "  </thead>\n",
              "  <tbody>\n",
              "    <tr>\n",
              "      <th>Host Id</th>\n",
              "      <td>0</td>\n",
              "    </tr>\n",
              "    <tr>\n",
              "      <th>Name</th>\n",
              "      <td>0</td>\n",
              "    </tr>\n",
              "    <tr>\n",
              "      <th>Neighbourhood</th>\n",
              "      <td>0</td>\n",
              "    </tr>\n",
              "    <tr>\n",
              "      <th>Property Type</th>\n",
              "      <td>0</td>\n",
              "    </tr>\n",
              "    <tr>\n",
              "      <th>Review Scores Rating (bin)</th>\n",
              "      <td>0</td>\n",
              "    </tr>\n",
              "    <tr>\n",
              "      <th>Room Type</th>\n",
              "      <td>0</td>\n",
              "    </tr>\n",
              "    <tr>\n",
              "      <th>Zipcode</th>\n",
              "      <td>0</td>\n",
              "    </tr>\n",
              "    <tr>\n",
              "      <th>Beds</th>\n",
              "      <td>0</td>\n",
              "    </tr>\n",
              "    <tr>\n",
              "      <th>Number of Records</th>\n",
              "      <td>0</td>\n",
              "    </tr>\n",
              "    <tr>\n",
              "      <th>Number Of Reviews</th>\n",
              "      <td>0</td>\n",
              "    </tr>\n",
              "    <tr>\n",
              "      <th>Price</th>\n",
              "      <td>0</td>\n",
              "    </tr>\n",
              "    <tr>\n",
              "      <th>Review Scores Rating</th>\n",
              "      <td>0</td>\n",
              "    </tr>\n",
              "    <tr>\n",
              "      <th>Neighborhood</th>\n",
              "      <td>0</td>\n",
              "    </tr>\n",
              "    <tr>\n",
              "      <th>Start Year</th>\n",
              "      <td>0</td>\n",
              "    </tr>\n",
              "    <tr>\n",
              "      <th>Years Hosting</th>\n",
              "      <td>0</td>\n",
              "    </tr>\n",
              "  </tbody>\n",
              "</table>\n",
              "</div><br><label><b>dtype:</b> int64</label>"
            ]
          },
          "metadata": {},
          "execution_count": 329
        }
      ]
    },
    {
      "cell_type": "markdown",
      "source": [
        "I chose to drop the na values in the review scores rating, because I plan on regressing on this and I feel that taking an average and replacing that with the rating would misrepresent the data. I also chose to drop the miscellaneous rows with missing values because it did not represent a large portion of the data, leading me to believe that these values weren't very statistically significant."
      ],
      "metadata": {
        "id": "J5kIi95iIgCI"
      }
    },
    {
      "cell_type": "markdown",
      "source": [
        "## Looking at the Distribution of the Price Variable"
      ],
      "metadata": {
        "id": "XfcZY9uOCym6"
      }
    },
    {
      "cell_type": "code",
      "source": [
        "plt.hist(df['Price'])"
      ],
      "metadata": {
        "colab": {
          "base_uri": "https://localhost:8080/",
          "height": 517
        },
        "id": "JMIVmPdsBFVD",
        "outputId": "6e789411-8cb9-44b4-dae2-5faaf288f495"
      },
      "execution_count": 330,
      "outputs": [
        {
          "output_type": "execute_result",
          "data": {
            "text/plain": [
              "(array([2.1972e+04, 2.6000e+01, 6.0000e+00, 2.0000e+00, 3.0000e+00,\n",
              "        0.0000e+00, 0.0000e+00, 0.0000e+00, 0.0000e+00, 1.0000e+00]),\n",
              " array([   10.,  1009.,  2008.,  3007.,  4006.,  5005.,  6004.,  7003.,\n",
              "         8002.,  9001., 10000.]),\n",
              " <BarContainer object of 10 artists>)"
            ]
          },
          "metadata": {},
          "execution_count": 330
        },
        {
          "output_type": "display_data",
          "data": {
            "text/plain": [
              "<Figure size 640x480 with 1 Axes>"
            ],
            "image/png": "[encoded data removed]"
          },
          "metadata": {}
        }
      ]
    },
    {
      "cell_type": "markdown",
      "source": [
        "It appears that this bar graph doesn't reveal much. Let's use the log transformation to show how the data varies."
      ],
      "metadata": {
        "id": "hDSQDuehDVsI"
      }
    },
    {
      "cell_type": "code",
      "source": [
        "df['PriceLog'] = np.log(df['Price'])\n",
        "df.loc[df['PriceLog']>0,'PriceLog'].hist(bins=20,grid=False)"
      ],
      "metadata": {
        "colab": {
          "base_uri": "https://localhost:8080/",
          "height": 451
        },
        "id": "kQvZhuFhLmei",
        "outputId": "2dfdbd57-f693-40d2-8950-4fc6e092eff1"
      },
      "execution_count": 293,
      "outputs": [
        {
          "output_type": "execute_result",
          "data": {
            "text/plain": [
              "<Axes: >"
            ]
          },
          "metadata": {},
          "execution_count": 293
        },
        {
          "output_type": "display_data",
          "data": {
            "text/plain": [
              "<Figure size 640x480 with 1 Axes>"
            ],
            "image/png": "[encoded data removed]"
          },
          "metadata": {}
        }
      ]
    },
    {
      "cell_type": "markdown",
      "source": [
        "## Looking at the Distribution of the Bed Variable"
      ],
      "metadata": {
        "id": "3VFD-1agOpmf"
      }
    },
    {
      "cell_type": "code",
      "source": [
        "plt.hist(df['Beds'])"
      ],
      "metadata": {
        "colab": {
          "base_uri": "https://localhost:8080/",
          "height": 499
        },
        "id": "V8VhcN9sOu-V",
        "outputId": "96dc7533-37b6-4694-dc75-ebdd6ef405df"
      },
      "execution_count": 294,
      "outputs": [
        {
          "output_type": "execute_result",
          "data": {
            "text/plain": [
              "(array([1.4453e+04, 6.4980e+03, 5.9600e+02, 3.6800e+02, 3.8000e+01,\n",
              "        2.5000e+01, 1.8000e+01, 4.0000e+00, 0.0000e+00, 1.0000e+01]),\n",
              " array([ 0. ,  1.6,  3.2,  4.8,  6.4,  8. ,  9.6, 11.2, 12.8, 14.4, 16. ]),\n",
              " <BarContainer object of 10 artists>)"
            ]
          },
          "metadata": {},
          "execution_count": 294
        },
        {
          "output_type": "display_data",
          "data": {
            "text/plain": [
              "<Figure size 640x480 with 1 Axes>"
            ],
            "image/png": "[encoded data removed]"
          },
          "metadata": {}
        }
      ]
    },
    {
      "cell_type": "markdown",
      "source": [
        "## Looking at the Distribution of the Neighborhood Variable"
      ],
      "metadata": {
        "id": "wzR_wJ3wO46Y"
      }
    },
    {
      "cell_type": "code",
      "source": [
        "plt.hist(df['Neighborhood'])"
      ],
      "metadata": {
        "colab": {
          "base_uri": "https://localhost:8080/",
          "height": 499
        },
        "id": "7D70IiyYRzEv",
        "outputId": "e7c036bf-9124-4825-9ffb-ee660481a813"
      },
      "execution_count": 295,
      "outputs": [
        {
          "output_type": "execute_result",
          "data": {
            "text/plain": [
              "(array([11693.,     0.,  8432.,     0.,     0.,  1576.,     0.,   215.,\n",
              "            0.,    94.]),\n",
              " array([0. , 0.4, 0.8, 1.2, 1.6, 2. , 2.4, 2.8, 3.2, 3.6, 4. ]),\n",
              " <BarContainer object of 10 artists>)"
            ]
          },
          "metadata": {},
          "execution_count": 295
        },
        {
          "output_type": "display_data",
          "data": {
            "text/plain": [
              "<Figure size 640x480 with 1 Axes>"
            ],
            "image/png": "[encoded data removed]"
          },
          "metadata": {}
        }
      ]
    },
    {
      "cell_type": "markdown",
      "source": [
        "## Looking at Distribution of Property Type"
      ],
      "metadata": {
        "id": "SAKuq9sMSesv"
      }
    },
    {
      "cell_type": "code",
      "source": [
        "plt.hist(df['Room Type'])"
      ],
      "metadata": {
        "colab": {
          "base_uri": "https://localhost:8080/",
          "height": 499
        },
        "id": "BrQLjOHgSmY5",
        "outputId": "276df891-79d8-4cd9-c52c-2a7627be39bf"
      },
      "execution_count": 296,
      "outputs": [
        {
          "output_type": "execute_result",
          "data": {
            "text/plain": [
              "(array([ 8669.,     0.,     0.,     0.,     0., 12800.,     0.,     0.,\n",
              "            0.,   541.]),\n",
              " array([0. , 0.2, 0.4, 0.6, 0.8, 1. , 1.2, 1.4, 1.6, 1.8, 2. ]),\n",
              " <BarContainer object of 10 artists>)"
            ]
          },
          "metadata": {},
          "execution_count": 296
        },
        {
          "output_type": "display_data",
          "data": {
            "text/plain": [
              "<Figure size 640x480 with 1 Axes>"
            ],
            "image/png": "[encoded data removed]"
          },
          "metadata": {}
        }
      ]
    },
    {
      "cell_type": "markdown",
      "source": [
        "## Looking at the Distribution of Years Hosting"
      ],
      "metadata": {
        "id": "TgD-_2HgSt1h"
      }
    },
    {
      "cell_type": "code",
      "source": [
        "df['Years Hosting'].describe()"
      ],
      "metadata": {
        "colab": {
          "base_uri": "https://localhost:8080/",
          "height": 335
        },
        "id": "eimKeRc-S8Iw",
        "outputId": "1373ae9b-000d-4043-ee1d-74e277f099b6"
      },
      "execution_count": 297,
      "outputs": [
        {
          "output_type": "execute_result",
          "data": {
            "text/plain": [
              "count    22010.000000\n",
              "mean        12.198092\n",
              "std          1.496605\n",
              "min         10.000000\n",
              "25%         11.000000\n",
              "50%         12.000000\n",
              "75%         13.000000\n",
              "max         17.000000\n",
              "Name: Years Hosting, dtype: float64"
            ],
            "text/html": [
              "<div>\n",
              "<style scoped>\n",
              "    .dataframe tbody tr th:only-of-type {\n",
              "        vertical-align: middle;\n",
              "    }\n",
              "\n",
              "    .dataframe tbody tr th {\n",
              "        vertical-align: top;\n",
              "    }\n",
              "\n",
              "    .dataframe thead th {\n",
              "        text-align: right;\n",
              "    }\n",
              "</style>\n",
              "<table border=\"1\" class=\"dataframe\">\n",
              "  <thead>\n",
              "    <tr style=\"text-align: right;\">\n",
              "      <th></th>\n",
              "      <th>Years Hosting</th>\n",
              "    </tr>\n",
              "  </thead>\n",
              "  <tbody>\n",
              "    <tr>\n",
              "      <th>count</th>\n",
              "      <td>22010.000000</td>\n",
              "    </tr>\n",
              "    <tr>\n",
              "      <th>mean</th>\n",
              "      <td>12.198092</td>\n",
              "    </tr>\n",
              "    <tr>\n",
              "      <th>std</th>\n",
              "      <td>1.496605</td>\n",
              "    </tr>\n",
              "    <tr>\n",
              "      <th>min</th>\n",
              "      <td>10.000000</td>\n",
              "    </tr>\n",
              "    <tr>\n",
              "      <th>25%</th>\n",
              "      <td>11.000000</td>\n",
              "    </tr>\n",
              "    <tr>\n",
              "      <th>50%</th>\n",
              "      <td>12.000000</td>\n",
              "    </tr>\n",
              "    <tr>\n",
              "      <th>75%</th>\n",
              "      <td>13.000000</td>\n",
              "    </tr>\n",
              "    <tr>\n",
              "      <th>max</th>\n",
              "      <td>17.000000</td>\n",
              "    </tr>\n",
              "  </tbody>\n",
              "</table>\n",
              "</div><br><label><b>dtype:</b> float64</label>"
            ]
          },
          "metadata": {},
          "execution_count": 297
        }
      ]
    },
    {
      "cell_type": "code",
      "source": [
        "plt.hist(df['Years Hosting'])"
      ],
      "metadata": {
        "colab": {
          "base_uri": "https://localhost:8080/",
          "height": 499
        },
        "id": "QYfafJNmSwoa",
        "outputId": "10f35d31-6e6d-4a34-d2c6-c5327de45ede"
      },
      "execution_count": 298,
      "outputs": [
        {
          "output_type": "execute_result",
          "data": {
            "text/plain": [
              "(array([2740., 5527., 4843.,    0., 4586., 2664.,    0., 1177.,  443.,\n",
              "          30.]),\n",
              " array([10. , 10.7, 11.4, 12.1, 12.8, 13.5, 14.2, 14.9, 15.6, 16.3, 17. ]),\n",
              " <BarContainer object of 10 artists>)"
            ]
          },
          "metadata": {},
          "execution_count": 298
        },
        {
          "output_type": "display_data",
          "data": {
            "text/plain": [
              "<Figure size 640x480 with 1 Axes>"
            ],
            "image/png": "[encoded data removed]"
          },
          "metadata": {}
        }
      ]
    },
    {
      "cell_type": "markdown",
      "source": [
        "## Looking at the Distribution of Review Score Rating"
      ],
      "metadata": {
        "id": "WRxZsHPhTGMR"
      }
    },
    {
      "cell_type": "code",
      "source": [
        "plt.hist(df['Review Scores Rating'], bins = 10)"
      ],
      "metadata": {
        "colab": {
          "base_uri": "https://localhost:8080/",
          "height": 499
        },
        "id": "0vTJZaYGTQzq",
        "outputId": "02521d40-a77b-497e-b6a2-422095520629"
      },
      "execution_count": 299,
      "outputs": [
        {
          "output_type": "execute_result",
          "data": {
            "text/plain": [
              "(array([3.9000e+01, 2.0000e+00, 4.9000e+01, 2.3000e+01, 1.5000e+01,\n",
              "        3.2300e+02, 3.9000e+02, 2.1620e+03, 5.3930e+03, 1.3614e+04]),\n",
              " array([ 20.,  28.,  36.,  44.,  52.,  60.,  68.,  76.,  84.,  92., 100.]),\n",
              " <BarContainer object of 10 artists>)"
            ]
          },
          "metadata": {},
          "execution_count": 299
        },
        {
          "output_type": "display_data",
          "data": {
            "text/plain": [
              "<Figure size 640x480 with 1 Axes>"
            ],
            "image/png": "[encoded data removed]"
          },
          "metadata": {}
        }
      ]
    },
    {
      "cell_type": "markdown",
      "source": [
        "## Comparing Price with Different Variables\n",
        "I'd like to regress with the target variable of price, so I'm looking at the relationship of different variables with Price."
      ],
      "metadata": {
        "id": "fgKzdvY0Sb6H"
      }
    },
    {
      "cell_type": "code",
      "source": [
        "sns.pairplot(df, y_vars=['Price'], x_vars=[col for col in df.select_dtypes(include=\"number\").columns if col != 'Price'])\n",
        "plt.show()"
      ],
      "metadata": {
        "colab": {
          "base_uri": "https://localhost:8080/",
          "height": 123
        },
        "id": "fvZ5H7viT6Tr",
        "outputId": "5c35731e-4592-45b7-d6d9-e9df08d64ace"
      },
      "execution_count": 331,
      "outputs": [
        {
          "output_type": "display_data",
          "data": {
            "text/plain": [
              "<Figure size 2250x250 with 9 Axes>"
            ],
            "image/png": "[encoded data removed]"
          },
          "metadata": {}
        }
      ]
    },
    {
      "cell_type": "markdown",
      "source": [
        "## Looking at Density of Beds based on Neighborhood"
      ],
      "metadata": {
        "id": "_sSD-M_AVg3C"
      }
    },
    {
      "cell_type": "code",
      "source": [
        "sns.kdeplot(data=df, x=\"Beds\", hue=\"Neighborhood\")"
      ],
      "metadata": {
        "colab": {
          "base_uri": "https://localhost:8080/",
          "height": 466
        },
        "id": "k9s88_JhVf0H",
        "outputId": "02e53538-e1b3-4c46-d3d2-30cfda21615e"
      },
      "execution_count": 332,
      "outputs": [
        {
          "output_type": "execute_result",
          "data": {
            "text/plain": [
              "<Axes: xlabel='Beds', ylabel='Density'>"
            ]
          },
          "metadata": {},
          "execution_count": 332
        },
        {
          "output_type": "display_data",
          "data": {
            "text/plain": [
              "<Figure size 640x480 with 1 Axes>"
            ],
            "image/png": "[encoded data removed]"
          },
          "metadata": {}
        }
      ]
    },
    {
      "cell_type": "markdown",
      "source": [
        "## Looking at Density of Price based on Neighborhood"
      ],
      "metadata": {
        "id": "NSpN8wDEV4Xu"
      }
    },
    {
      "cell_type": "code",
      "source": [
        "sns.kdeplot(data=df, x=\"Price\", hue=\"Neighborhood\")"
      ],
      "metadata": {
        "colab": {
          "base_uri": "https://localhost:8080/",
          "height": 466
        },
        "id": "coiCAl-eVzGR",
        "outputId": "99c1c35c-0be8-4cb5-b24e-51c8a4fba7de"
      },
      "execution_count": 333,
      "outputs": [
        {
          "output_type": "execute_result",
          "data": {
            "text/plain": [
              "<Axes: xlabel='Price', ylabel='Density'>"
            ]
          },
          "metadata": {},
          "execution_count": 333
        },
        {
          "output_type": "display_data",
          "data": {
            "text/plain": [
              "<Figure size 640x480 with 1 Axes>"
            ],
            "image/png": "[encoded data removed]"
          },
          "metadata": {}
        }
      ]
    },
    {
      "cell_type": "markdown",
      "source": [
        "# Variable Transformation\n",
        "Transform your variables --- particularly categorical ones --- for use in your regression analysis."
      ],
      "metadata": {
        "id": "6YwoS58gWPlj"
      }
    },
    {
      "cell_type": "code",
      "source": [
        "df.columns"
      ],
      "metadata": {
        "colab": {
          "base_uri": "https://localhost:8080/"
        },
        "id": "NF3-XPk64SmY",
        "outputId": "005f251b-11c1-4b9a-ed23-a81d871d2970"
      },
      "execution_count": 348,
      "outputs": [
        {
          "output_type": "execute_result",
          "data": {
            "text/plain": [
              "Index(['Host Id', 'Name', 'Neighbourhood ', 'Property Type',\n",
              "       'Review Scores Rating (bin)', 'Room Type', 'Zipcode', 'Beds',\n",
              "       'Number of Records', 'Number Of Reviews', 'Price',\n",
              "       'Review Scores Rating', 'Neighborhood', 'Start Year', 'Years Hosting'],\n",
              "      dtype='object')"
            ]
          },
          "metadata": {},
          "execution_count": 348
        }
      ]
    },
    {
      "cell_type": "code",
      "source": [
        "dummyneighbors = pd.get_dummies(df['Neighborhood'], dtype=float, drop_first=False)\n",
        "dummyproperties = pd.get_dummies(df['Property Type'], dtype=float, drop_first=False)\n",
        "dummyroom = pd.get_dummies(df['Room Type'], dtype=float, drop_first=False)\n",
        "\n",
        "\n",
        "df2 = df.copy()\n",
        "\n",
        "\n",
        "df2.drop(['Neighborhood', 'Neighbourhood ', 'Property Type', 'Name', 'Room Type'], axis=1, inplace=True)\n",
        "\n",
        "\n",
        "df2 = pd.concat([df2, dummyneighbors, dummyproperties], axis=1)\n",
        "\n",
        "\n",
        "price = df2['Price']\n",
        "\n",
        "print(df2.head())\n",
        "print(price.head())\n"
      ],
      "metadata": {
        "colab": {
          "base_uri": "https://localhost:8080/"
        },
        "id": "7WwjCCrI3Mp_",
        "outputId": "c6d0733f-eb9e-4042-d63a-eef6ac001d99"
      },
      "execution_count": 349,
      "outputs": [
        {
          "output_type": "stream",
          "name": "stdout",
          "text": [
            "   Host Id  Review Scores Rating (bin)  Zipcode  Beds  Number of Records  \\\n",
            "4      500                        95.0  10036.0   3.0                  1   \n",
            "5     1039                       100.0  11222.0   1.0                  1   \n",
            "6     1783                       100.0  10004.0   1.0                  1   \n",
            "7     2078                        90.0  11201.0   1.0                  1   \n",
            "8     2339                        90.0  10009.0   2.0                  1   \n",
            "\n",
            "   Number Of Reviews  Price  Review Scores Rating  Start Year  Years Hosting  \\\n",
            "4                 39    549                  96.0      2008.0           17.0   \n",
            "5                  4    149                 100.0      2008.0           17.0   \n",
            "6                  9    250                 100.0      2008.0           17.0   \n",
            "7                 80     90                  94.0      2008.0           17.0   \n",
            "8                 95    270                  90.0      2008.0           17.0   \n",
            "\n",
            "   ...  Condominium  Dorm  House  Hut  Lighthouse  Loft  Other  Townhouse  \\\n",
            "4  ...          0.0   0.0    0.0  0.0         0.0   0.0    0.0        0.0   \n",
            "5  ...          0.0   0.0    0.0  0.0         0.0   0.0    0.0        0.0   \n",
            "6  ...          0.0   0.0    0.0  0.0         0.0   0.0    0.0        0.0   \n",
            "7  ...          0.0   0.0    0.0  0.0         0.0   0.0    0.0        0.0   \n",
            "8  ...          0.0   0.0    0.0  0.0         0.0   0.0    0.0        0.0   \n",
            "\n",
            "   Treehouse  Villa  \n",
            "4        0.0    0.0  \n",
            "5        0.0    0.0  \n",
            "6        0.0    0.0  \n",
            "7        0.0    0.0  \n",
            "8        0.0    0.0  \n",
            "\n",
            "[5 rows x 33 columns]\n",
            "4    549\n",
            "5    149\n",
            "6    250\n",
            "7     90\n",
            "8    270\n",
            "Name: Price, dtype: int64\n"
          ]
        }
      ]
    },
    {
      "cell_type": "code",
      "source": [
        "df2.columns"
      ],
      "metadata": {
        "colab": {
          "base_uri": "https://localhost:8080/"
        },
        "id": "puFGOfcd28d0",
        "outputId": "ff256f5f-74dd-4801-f2fb-99525f08918f"
      },
      "execution_count": 350,
      "outputs": [
        {
          "output_type": "execute_result",
          "data": {
            "text/plain": [
              "Index(['Host Id', 'Review Scores Rating (bin)', 'Zipcode', 'Beds',\n",
              "       'Number of Records', 'Number Of Reviews', 'Price',\n",
              "       'Review Scores Rating', 'Start Year', 'Years Hosting', 'Bronx',\n",
              "       'Brooklyn', 'Manhattan', 'Queens', 'Staten Island', 'Apartment',\n",
              "       'Bed & Breakfast', 'Boat', 'Bungalow', 'Cabin', 'Camper/RV', 'Castle',\n",
              "       'Chalet', 'Condominium', 'Dorm', 'House', 'Hut', 'Lighthouse', 'Loft',\n",
              "       'Other', 'Townhouse', 'Treehouse', 'Villa'],\n",
              "      dtype='object')"
            ]
          },
          "metadata": {},
          "execution_count": 350
        }
      ]
    },
    {
      "cell_type": "code",
      "source": [
        "df2.head()"
      ],
      "metadata": {
        "colab": {
          "base_uri": "https://localhost:8080/",
          "height": 307
        },
        "id": "Ns6D0p8jcVqd",
        "outputId": "6502d070-14e6-4dab-eca0-b892060ff177"
      },
      "execution_count": 351,
      "outputs": [
        {
          "output_type": "execute_result",
          "data": {
            "text/plain": [
              "   Host Id  Review Scores Rating (bin)  Zipcode  Beds  Number of Records  \\\n",
              "4      500                        95.0  10036.0   3.0                  1   \n",
              "5     1039                       100.0  11222.0   1.0                  1   \n",
              "6     1783                       100.0  10004.0   1.0                  1   \n",
              "7     2078                        90.0  11201.0   1.0                  1   \n",
              "8     2339                        90.0  10009.0   2.0                  1   \n",
              "\n",
              "   Number Of Reviews  Price  Review Scores Rating  Start Year  Years Hosting  \\\n",
              "4                 39    549                  96.0      2008.0           17.0   \n",
              "5                  4    149                 100.0      2008.0           17.0   \n",
              "6                  9    250                 100.0      2008.0           17.0   \n",
              "7                 80     90                  94.0      2008.0           17.0   \n",
              "8                 95    270                  90.0      2008.0           17.0   \n",
              "\n",
              "   ...  Condominium  Dorm  House  Hut  Lighthouse  Loft  Other  Townhouse  \\\n",
              "4  ...          0.0   0.0    0.0  0.0         0.0   0.0    0.0        0.0   \n",
              "5  ...          0.0   0.0    0.0  0.0         0.0   0.0    0.0        0.0   \n",
              "6  ...          0.0   0.0    0.0  0.0         0.0   0.0    0.0        0.0   \n",
              "7  ...          0.0   0.0    0.0  0.0         0.0   0.0    0.0        0.0   \n",
              "8  ...          0.0   0.0    0.0  0.0         0.0   0.0    0.0        0.0   \n",
              "\n",
              "   Treehouse  Villa  \n",
              "4        0.0    0.0  \n",
              "5        0.0    0.0  \n",
              "6        0.0    0.0  \n",
              "7        0.0    0.0  \n",
              "8        0.0    0.0  \n",
              "\n",
              "[5 rows x 33 columns]"
            ],
            "text/html": [
              "\n",
              "  <div id=\"df-3f8b2888-e965-4d82-83ba-ae30433774c7\" class=\"colab-df-container\">\n",
              "    <div>\n",
              "<style scoped>\n",
              "    .dataframe tbody tr th:only-of-type {\n",
              "        vertical-align: middle;\n",
              "    }\n",
              "\n",
              "    .dataframe tbody tr th {\n",
              "        vertical-align: top;\n",
              "    }\n",
              "\n",
              "    .dataframe thead th {\n",
              "        text-align: right;\n",
              "    }\n",
              "</style>\n",
              "<table border=\"1\" class=\"dataframe\">\n",
              "  <thead>\n",
              "    <tr style=\"text-align: right;\">\n",
              "      <th></th>\n",
              "      <th>Host Id</th>\n",
              "      <th>Review Scores Rating (bin)</th>\n",
              "      <th>Zipcode</th>\n",
              "      <th>Beds</th>\n",
              "      <th>Number of Records</th>\n",
              "      <th>Number Of Reviews</th>\n",
              "      <th>Price</th>\n",
              "      <th>Review Scores Rating</th>\n",
              "      <th>Start Year</th>\n",
              "      <th>Years Hosting</th>\n",
              "      <th>...</th>\n",
              "      <th>Condominium</th>\n",
              "      <th>Dorm</th>\n",
              "      <th>House</th>\n",
              "      <th>Hut</th>\n",
              "      <th>Lighthouse</th>\n",
              "      <th>Loft</th>\n",
              "      <th>Other</th>\n",
              "      <th>Townhouse</th>\n",
              "      <th>Treehouse</th>\n",
              "      <th>Villa</th>\n",
              "    </tr>\n",
              "  </thead>\n",
              "  <tbody>\n",
              "    <tr>\n",
              "      <th>4</th>\n",
              "      <td>500</td>\n",
              "      <td>95.0</td>\n",
              "      <td>10036.0</td>\n",
              "      <td>3.0</td>\n",
              "      <td>1</td>\n",
              "      <td>39</td>\n",
              "      <td>549</td>\n",
              "      <td>96.0</td>\n",
              "      <td>2008.0</td>\n",
              "      <td>17.0</td>\n",
              "      <td>...</td>\n",
              "      <td>0.0</td>\n",
              "      <td>0.0</td>\n",
              "      <td>0.0</td>\n",
              "      <td>0.0</td>\n",
              "      <td>0.0</td>\n",
              "      <td>0.0</td>\n",
              "      <td>0.0</td>\n",
              "      <td>0.0</td>\n",
              "      <td>0.0</td>\n",
              "      <td>0.0</td>\n",
              "    </tr>\n",
              "    <tr>\n",
              "      <th>5</th>\n",
              "      <td>1039</td>\n",
              "      <td>100.0</td>\n",
              "      <td>11222.0</td>\n",
              "      <td>1.0</td>\n",
              "      <td>1</td>\n",
              "      <td>4</td>\n",
              "      <td>149</td>\n",
              "      <td>100.0</td>\n",
              "      <td>2008.0</td>\n",
              "      <td>17.0</td>\n",
              "      <td>...</td>\n",
              "      <td>0.0</td>\n",
              "      <td>0.0</td>\n",
              "      <td>0.0</td>\n",
              "      <td>0.0</td>\n",
              "      <td>0.0</td>\n",
              "      <td>0.0</td>\n",
              "      <td>0.0</td>\n",
              "      <td>0.0</td>\n",
              "      <td>0.0</td>\n",
              "      <td>0.0</td>\n",
              "    </tr>\n",
              "    <tr>\n",
              "      <th>6</th>\n",
              "      <td>1783</td>\n",
              "      <td>100.0</td>\n",
              "      <td>10004.0</td>\n",
              "      <td>1.0</td>\n",
              "      <td>1</td>\n",
              "      <td>9</td>\n",
              "      <td>250</td>\n",
              "      <td>100.0</td>\n",
              "      <td>2008.0</td>\n",
              "      <td>17.0</td>\n",
              "      <td>...</td>\n",
              "      <td>0.0</td>\n",
              "      <td>0.0</td>\n",
              "      <td>0.0</td>\n",
              "      <td>0.0</td>\n",
              "      <td>0.0</td>\n",
              "      <td>0.0</td>\n",
              "      <td>0.0</td>\n",
              "      <td>0.0</td>\n",
              "      <td>0.0</td>\n",
              "      <td>0.0</td>\n",
              "    </tr>\n",
              "    <tr>\n",
              "      <th>7</th>\n",
              "      <td>2078</td>\n",
              "      <td>90.0</td>\n",
              "      <td>11201.0</td>\n",
              "      <td>1.0</td>\n",
              "      <td>1</td>\n",
              "      <td>80</td>\n",
              "      <td>90</td>\n",
              "      <td>94.0</td>\n",
              "      <td>2008.0</td>\n",
              "      <td>17.0</td>\n",
              "      <td>...</td>\n",
              "      <td>0.0</td>\n",
              "      <td>0.0</td>\n",
              "      <td>0.0</td>\n",
              "      <td>0.0</td>\n",
              "      <td>0.0</td>\n",
              "      <td>0.0</td>\n",
              "      <td>0.0</td>\n",
              "      <td>0.0</td>\n",
              "      <td>0.0</td>\n",
              "      <td>0.0</td>\n",
              "    </tr>\n",
              "    <tr>\n",
              "      <th>8</th>\n",
              "      <td>2339</td>\n",
              "      <td>90.0</td>\n",
              "      <td>10009.0</td>\n",
              "      <td>2.0</td>\n",
              "      <td>1</td>\n",
              "      <td>95</td>\n",
              "      <td>270</td>\n",
              "      <td>90.0</td>\n",
              "      <td>2008.0</td>\n",
              "      <td>17.0</td>\n",
              "      <td>...</td>\n",
              "      <td>0.0</td>\n",
              "      <td>0.0</td>\n",
              "      <td>0.0</td>\n",
              "      <td>0.0</td>\n",
              "      <td>0.0</td>\n",
              "      <td>0.0</td>\n",
              "      <td>0.0</td>\n",
              "      <td>0.0</td>\n",
              "      <td>0.0</td>\n",
              "      <td>0.0</td>\n",
              "    </tr>\n",
              "  </tbody>\n",
              "</table>\n",
              "<p>5 rows × 33 columns</p>\n",
              "</div>\n",
              "    <div class=\"colab-df-buttons\">\n",
              "\n",
              "  <div class=\"colab-df-container\">\n",
              "    <button class=\"colab-df-convert\" onclick=\"convertToInteractive('df-3f8b2888-e965-4d82-83ba-ae30433774c7')\"\n",
              "            title=\"Convert this dataframe to an interactive table.\"\n",
              "            style=\"display:none;\">\n",
              "\n",
              "  <svg xmlns=\"http://www.w3.org/2000/svg\" height=\"24px\" viewBox=\"0 -960 960 960\">\n",
              "    <path d=\"M120-120v-720h720v720H120Zm60-500h600v-160H180v160Zm220 220h160v-160H400v160Zm0 220h160v-160H400v160ZM180-400h160v-160H180v160Zm440 0h160v-160H620v160ZM180-180h160v-160H180v160Zm440 0h160v-160H620v160Z\"/>\n",
              "  </svg>\n",
              "    </button>\n",
              "\n",
              "  <style>\n",
              "    .colab-df-container {\n",
              "      display:flex;\n",
              "      gap: 12px;\n",
              "    }\n",
              "\n",
              "    .colab-df-convert {\n",
              "      background-color: #E8F0FE;\n",
              "      border: none;\n",
              "      border-radius: 50%;\n",
              "      cursor: pointer;\n",
              "      display: none;\n",
              "      fill: #1967D2;\n",
              "      height: 32px;\n",
              "      padding: 0 0 0 0;\n",
              "      width: 32px;\n",
              "    }\n",
              "\n",
              "    .colab-df-convert:hover {\n",
              "      background-color: #E2EBFA;\n",
              "      box-shadow: 0px 1px 2px rgba(60, 64, 67, 0.3), 0px 1px 3px 1px rgba(60, 64, 67, 0.15);\n",
              "      fill: #174EA6;\n",
              "    }\n",
              "\n",
              "    .colab-df-buttons div {\n",
              "      margin-bottom: 4px;\n",
              "    }\n",
              "\n",
              "    [theme=dark] .colab-df-convert {\n",
              "      background-color: #3B4455;\n",
              "      fill: #D2E3FC;\n",
              "    }\n",
              "\n",
              "    [theme=dark] .colab-df-convert:hover {\n",
              "      background-color: #434B5C;\n",
              "      box-shadow: 0px 1px 3px 1px rgba(0, 0, 0, 0.15);\n",
              "      filter: drop-shadow(0px 1px 2px rgba(0, 0, 0, 0.3));\n",
              "      fill: #FFFFFF;\n",
              "    }\n",
              "  </style>\n",
              "\n",
              "    <script>\n",
              "      const buttonEl =\n",
              "        document.querySelector('#df-3f8b2888-e965-4d82-83ba-ae30433774c7 button.colab-df-convert');\n",
              "      buttonEl.style.display =\n",
              "        google.colab.kernel.accessAllowed ? 'block' : 'none';\n",
              "\n",
              "      async function convertToInteractive(key) {\n",
              "        const element = document.querySelector('#df-3f8b2888-e965-4d82-83ba-ae30433774c7');\n",
              "        const dataTable =\n",
              "          await google.colab.kernel.invokeFunction('convertToInteractive',\n",
              "                                                    [key], {});\n",
              "        if (!dataTable) return;\n",
              "\n",
              "        const docLinkHtml = 'Like what you see? Visit the ' +\n",
              "          '<a target=\"_blank\" href=https://colab.research.google.com/notebooks/data_table.ipynb>data table notebook</a>'\n",
              "          + ' to learn more about interactive tables.';\n",
              "        element.innerHTML = '';\n",
              "        dataTable['output_type'] = 'display_data';\n",
              "        await google.colab.output.renderOutput(dataTable, element);\n",
              "        const docLink = document.createElement('div');\n",
              "        docLink.innerHTML = docLinkHtml;\n",
              "        element.appendChild(docLink);\n",
              "      }\n",
              "    </script>\n",
              "  </div>\n",
              "\n",
              "\n",
              "<div id=\"df-ad3503be-d4fd-4203-b0b2-a2ed642eee04\">\n",
              "  <button class=\"colab-df-quickchart\" onclick=\"quickchart('df-ad3503be-d4fd-4203-b0b2-a2ed642eee04')\"\n",
              "            title=\"Suggest charts\"\n",
              "            style=\"display:none;\">\n",
              "\n",
              "<svg xmlns=\"http://www.w3.org/2000/svg\" height=\"24px\"viewBox=\"0 0 24 24\"\n",
              "     width=\"24px\">\n",
              "    <g>\n",
              "        <path d=\"M19 3H5c-1.1 0-2 .9-2 2v14c0 1.1.9 2 2 2h14c1.1 0 2-.9 2-2V5c0-1.1-.9-2-2-2zM9 17H7v-7h2v7zm4 0h-2V7h2v10zm4 0h-2v-4h2v4z\"/>\n",
              "    </g>\n",
              "</svg>\n",
              "  </button>\n",
              "\n",
              "<style>\n",
              "  .colab-df-quickchart {\n",
              "      --bg-color: #E8F0FE;\n",
              "      --fill-color: #1967D2;\n",
              "      --hover-bg-color: #E2EBFA;\n",
              "      --hover-fill-color: #174EA6;\n",
              "      --disabled-fill-color: #AAA;\n",
              "      --disabled-bg-color: #DDD;\n",
              "  }\n",
              "\n",
              "  [theme=dark] .colab-df-quickchart {\n",
              "      --bg-color: #3B4455;\n",
              "      --fill-color: #D2E3FC;\n",
              "      --hover-bg-color: #434B5C;\n",
              "      --hover-fill-color: #FFFFFF;\n",
              "      --disabled-bg-color: #3B4455;\n",
              "      --disabled-fill-color: #666;\n",
              "  }\n",
              "\n",
              "  .colab-df-quickchart {\n",
              "    background-color: var(--bg-color);\n",
              "    border: none;\n",
              "    border-radius: 50%;\n",
              "    cursor: pointer;\n",
              "    display: none;\n",
              "    fill: var(--fill-color);\n",
              "    height: 32px;\n",
              "    padding: 0;\n",
              "    width: 32px;\n",
              "  }\n",
              "\n",
              "  .colab-df-quickchart:hover {\n",
              "    background-color: var(--hover-bg-color);\n",
              "    box-shadow: 0 1px 2px rgba(60, 64, 67, 0.3), 0 1px 3px 1px rgba(60, 64, 67, 0.15);\n",
              "    fill: var(--button-hover-fill-color);\n",
              "  }\n",
              "\n",
              "  .colab-df-quickchart-complete:disabled,\n",
              "  .colab-df-quickchart-complete:disabled:hover {\n",
              "    background-color: var(--disabled-bg-color);\n",
              "    fill: var(--disabled-fill-color);\n",
              "    box-shadow: none;\n",
              "  }\n",
              "\n",
              "  .colab-df-spinner {\n",
              "    border: 2px solid var(--fill-color);\n",
              "    border-color: transparent;\n",
              "    border-bottom-color: var(--fill-color);\n",
              "    animation:\n",
              "      spin 1s steps(1) infinite;\n",
              "  }\n",
              "\n",
              "  @keyframes spin {\n",
              "    0% {\n",
              "      border-color: transparent;\n",
              "      border-bottom-color: var(--fill-color);\n",
              "      border-left-color: var(--fill-color);\n",
              "    }\n",
              "    20% {\n",
              "      border-color: transparent;\n",
              "      border-left-color: var(--fill-color);\n",
              "      border-top-color: var(--fill-color);\n",
              "    }\n",
              "    30% {\n",
              "      border-color: transparent;\n",
              "      border-left-color: var(--fill-color);\n",
              "      border-top-color: var(--fill-color);\n",
              "      border-right-color: var(--fill-color);\n",
              "    }\n",
              "    40% {\n",
              "      border-color: transparent;\n",
              "      border-right-color: var(--fill-color);\n",
              "      border-top-color: var(--fill-color);\n",
              "    }\n",
              "    60% {\n",
              "      border-color: transparent;\n",
              "      border-right-color: var(--fill-color);\n",
              "    }\n",
              "    80% {\n",
              "      border-color: transparent;\n",
              "      border-right-color: var(--fill-color);\n",
              "      border-bottom-color: var(--fill-color);\n",
              "    }\n",
              "    90% {\n",
              "      border-color: transparent;\n",
              "      border-bottom-color: var(--fill-color);\n",
              "    }\n",
              "  }\n",
              "</style>\n",
              "\n",
              "  <script>\n",
              "    async function quickchart(key) {\n",
              "      const quickchartButtonEl =\n",
              "        document.querySelector('#' + key + ' button');\n",
              "      quickchartButtonEl.disabled = true;  // To prevent multiple clicks.\n",
              "      quickchartButtonEl.classList.add('colab-df-spinner');\n",
              "      try {\n",
              "        const charts = await google.colab.kernel.invokeFunction(\n",
              "            'suggestCharts', [key], {});\n",
              "      } catch (error) {\n",
              "        console.error('Error during call to suggestCharts:', error);\n",
              "      }\n",
              "      quickchartButtonEl.classList.remove('colab-df-spinner');\n",
              "      quickchartButtonEl.classList.add('colab-df-quickchart-complete');\n",
              "    }\n",
              "    (() => {\n",
              "      let quickchartButtonEl =\n",
              "        document.querySelector('#df-ad3503be-d4fd-4203-b0b2-a2ed642eee04 button');\n",
              "      quickchartButtonEl.style.display =\n",
              "        google.colab.kernel.accessAllowed ? 'block' : 'none';\n",
              "    })();\n",
              "  </script>\n",
              "</div>\n",
              "\n",
              "    </div>\n",
              "  </div>\n"
            ],
            "application/vnd.google.colaboratory.intrinsic+json": {
              "type": "dataframe",
              "variable_name": "df2"
            }
          },
          "metadata": {},
          "execution_count": 351
        }
      ]
    },
    {
      "cell_type": "markdown",
      "source": [
        "## Implementing a Test and Training Set\n",
        "3. Implement an 80/20 train-test split. Put the test data aside."
      ],
      "metadata": {
        "id": "_PNYuUMDP6NV"
      }
    },
    {
      "cell_type": "markdown",
      "source": [
        "# Simple Linear Models\n",
        "Build some simple linear models that include no transformations or interactions. Fit them, and determine their RMSE and  𝑅2  on the both the training and test sets. Which of your models does the best?"
      ],
      "metadata": {
        "id": "2Z315XCOZWyj"
      }
    },
    {
      "cell_type": "markdown",
      "source": [
        "## All Variables in the Linear Regression"
      ],
      "metadata": {
        "id": "GBgywQcD1jkw"
      }
    },
    {
      "cell_type": "code",
      "source": [
        "from sklearn.model_selection import train_test_split\n",
        "X_train, X_test, y_train, y_test = train_test_split(df2, price, test_size=0.2, random_state=42)"
      ],
      "metadata": {
        "id": "-VKzRIHSOqn1"
      },
      "execution_count": 362,
      "outputs": []
    },
    {
      "cell_type": "code",
      "source": [
        "from sklearn.linear_model import LinearRegression\n",
        "res_data = LinearRegression(fit_intercept=False).fit(X_train, y_train)\n",
        "print(\"Training Data R-Squared Value:\")\n",
        "print(res_data.score(X_train, y_train))\n",
        "\n",
        "train = res_data.predict(X_train)\n",
        "train_df = pd.DataFrame(train, columns = ['Predictions'])\n",
        "train_df['Y_values'] = y_train\n",
        "train_df['Residuals'] = train_df['Y_values']-train_df['Predictions']\n",
        "print(\"The RMSE for Training Data:\")\n",
        "RMSE = np.sqrt(np.mean(np.square(train_df['Residuals'])))\n",
        "print(RMSE)\n",
        "\n",
        "print(\"Testing Data R-Squared Value:\")\n",
        "print(res_data.score(X_train, y_train))\n",
        "\n",
        "test = res_data.predict(X_test)\n",
        "test_df = pd.DataFrame(test, columns = ['Predictions'])\n",
        "test_df['Y_values'] = y_test\n",
        "test_df['Residuals'] = test_df['Y_values']-test_df['Predictions']\n",
        "print(\"The RMSE for Testing Data:\")\n",
        "RMSE = np.sqrt(np.mean(np.square(test_df['Residuals'])))\n",
        "print(RMSE)"
      ],
      "metadata": {
        "colab": {
          "base_uri": "https://localhost:8080/"
        },
        "id": "0O4To2qTZt1d",
        "outputId": "61979562-ca86-460c-87a2-5a67d8c7657a"
      },
      "execution_count": 363,
      "outputs": [
        {
          "output_type": "stream",
          "name": "stdout",
          "text": [
            "Training Data R-Squared Value:\n",
            "1.0\n",
            "The RMSE for Training Data:\n",
            "217.2156644560505\n",
            "Testing Data R-Squared Value:\n",
            "1.0\n",
            "The RMSE for Testing Data:\n",
            "149.93416035288607\n"
          ]
        }
      ]
    },
    {
      "cell_type": "markdown",
      "source": [
        "This model is clearly overfitting due to having zero error, leading me to believe there is an issue due to including so many variables."
      ],
      "metadata": {
        "id": "vcRXVoey7_W_"
      }
    },
    {
      "cell_type": "markdown",
      "source": [
        "## Regressing based on Beds and Neighborhood"
      ],
      "metadata": {
        "id": "mLQKp4bS6oqB"
      }
    },
    {
      "cell_type": "code",
      "source": [
        "X_train1, X_test1, y_train1, y_test1 = train_test_split(pd.concat([df2[['Beds']], dummyneighbors], axis=1), price, test_size=0.2, random_state=100)\n"
      ],
      "metadata": {
        "id": "en19Rr1X6dMr"
      },
      "execution_count": 364,
      "outputs": []
    },
    {
      "cell_type": "code",
      "source": [
        "from sklearn.linear_model import LinearRegression\n",
        "res_data = LinearRegression(fit_intercept=False).fit(X_train1, y_train1)\n",
        "print(\"Training Data R-Squared Value:\")\n",
        "print(res_data.score(X_train1, y_train1))\n",
        "\n",
        "train = res_data.predict(X_train1)\n",
        "train_df = pd.DataFrame(train, columns = ['Predictions'])\n",
        "train_df['Y_values'] = y_train1\n",
        "train_df['Residuals'] = train_df['Y_values']-train_df['Predictions']\n",
        "print(\"The RMSE for Training Data:\")\n",
        "RMSE = np.sqrt(np.mean(np.square(train_df['Residuals'])))\n",
        "print(RMSE)\n",
        "\n",
        "print(\"Testing Data R-Squared Value:\")\n",
        "print(res_data.score(X_train1, y_train1))\n",
        "\n",
        "test = res_data.predict(X_test1)\n",
        "test_df = pd.DataFrame(test, columns = ['Predictions'])\n",
        "test_df['Y_values'] = y_test1\n",
        "test_df['Residuals'] = test_df['Y_values']-test_df['Predictions']\n",
        "print(\"The RMSE for Testing Data:\")\n",
        "RMSE = np.sqrt(np.mean(np.square(test_df['Residuals'])))\n",
        "print(RMSE)"
      ],
      "metadata": {
        "colab": {
          "base_uri": "https://localhost:8080/"
        },
        "id": "RUbHfqZt2UxA",
        "outputId": "3c7f57ad-69be-44a0-e5f9-e417112dcd9f"
      },
      "execution_count": 365,
      "outputs": [
        {
          "output_type": "stream",
          "name": "stdout",
          "text": [
            "Training Data R-Squared Value:\n",
            "0.17577690902531817\n",
            "The RMSE for Training Data:\n",
            "158.18552790664174\n",
            "Testing Data R-Squared Value:\n",
            "0.17577690902531817\n",
            "The RMSE for Testing Data:\n",
            "126.48688669782166\n"
          ]
        }
      ]
    },
    {
      "cell_type": "markdown",
      "source": [
        "This performance is very weak."
      ],
      "metadata": {
        "id": "d5Di7qXk8Wi5"
      }
    },
    {
      "cell_type": "markdown",
      "source": [
        "## Regressing based on Room and Property Type"
      ],
      "metadata": {
        "id": "Gd5MwQSe7Khv"
      }
    },
    {
      "cell_type": "code",
      "source": [
        "X_train1, X_test1, y_train1, y_test1 = train_test_split(pd.concat([dummyroom, dummyproperties], axis=1), price, test_size=0.2, random_state=100)"
      ],
      "metadata": {
        "id": "CRcQwkuE7CDa"
      },
      "execution_count": 366,
      "outputs": []
    },
    {
      "cell_type": "code",
      "source": [
        "from sklearn.linear_model import LinearRegression\n",
        "res_data = LinearRegression(fit_intercept=False).fit(X_train1, y_train1)\n",
        "print(\"Training Data R-Squared Value:\")\n",
        "print(res_data.score(X_train1, y_train1))\n",
        "\n",
        "train = res_data.predict(X_train1)\n",
        "train_df = pd.DataFrame(train, columns = ['Predictions'])\n",
        "train_df['Y_values'] = y_train1\n",
        "train_df['Residuals'] = train_df['Y_values']-train_df['Predictions']\n",
        "print(\"The RMSE for Training Data:\")\n",
        "RMSE = np.sqrt(np.mean(np.square(train_df['Residuals'])))\n",
        "print(RMSE)\n",
        "\n",
        "print(\"Testing Data R-Squared Value:\")\n",
        "print(res_data.score(X_train1, y_train1))\n",
        "\n",
        "test = res_data.predict(X_test1)\n",
        "test_df = pd.DataFrame(test, columns = ['Predictions'])\n",
        "test_df['Y_values'] = y_test1\n",
        "test_df['Residuals'] = test_df['Y_values']-test_df['Predictions']\n",
        "print(\"The RMSE for Testing Data:\")\n",
        "RMSE = np.sqrt(np.mean(np.square(test_df['Residuals'])))\n",
        "print(RMSE)"
      ],
      "metadata": {
        "colab": {
          "base_uri": "https://localhost:8080/"
        },
        "id": "CMINeyVJ6sWn",
        "outputId": "275c8d8d-b7e8-40a8-cb2b-f50fea5728fc"
      },
      "execution_count": 367,
      "outputs": [
        {
          "output_type": "stream",
          "name": "stdout",
          "text": [
            "Training Data R-Squared Value:\n",
            "0.14463801706979074\n",
            "The RMSE for Training Data:\n",
            "154.0420758090854\n",
            "Testing Data R-Squared Value:\n",
            "0.14463801706979074\n",
            "The RMSE for Testing Data:\n",
            "126.47172233878277\n"
          ]
        }
      ]
    },
    {
      "cell_type": "markdown",
      "source": [
        "This is a weak model."
      ],
      "metadata": {
        "id": "Vm8LYbo28hjy"
      }
    },
    {
      "cell_type": "code",
      "source": [
        "df2.columns"
      ],
      "metadata": {
        "colab": {
          "base_uri": "https://localhost:8080/"
        },
        "id": "DKdEiaYM81kf",
        "outputId": "aacc26ae-5a7e-487b-f7f7-44e3ca09e5ba"
      },
      "execution_count": 368,
      "outputs": [
        {
          "output_type": "execute_result",
          "data": {
            "text/plain": [
              "Index(['Host Id', 'Review Scores Rating (bin)', 'Zipcode', 'Beds',\n",
              "       'Number of Records', 'Number Of Reviews', 'Price',\n",
              "       'Review Scores Rating', 'Start Year', 'Years Hosting', 'Bronx',\n",
              "       'Brooklyn', 'Manhattan', 'Queens', 'Staten Island', 'Apartment',\n",
              "       'Bed & Breakfast', 'Boat', 'Bungalow', 'Cabin', 'Camper/RV', 'Castle',\n",
              "       'Chalet', 'Condominium', 'Dorm', 'House', 'Hut', 'Lighthouse', 'Loft',\n",
              "       'Other', 'Townhouse', 'Treehouse', 'Villa'],\n",
              "      dtype='object')"
            ]
          },
          "metadata": {},
          "execution_count": 368
        }
      ]
    },
    {
      "cell_type": "code",
      "source": [
        "X_train1, X_test1, y_train1, y_test1 = train_test_split(pd.concat([df2['Beds'], dummyroom], axis=1), price, test_size=0.2, random_state=100)"
      ],
      "metadata": {
        "id": "T20TBnAo9HDL"
      },
      "execution_count": 369,
      "outputs": []
    },
    {
      "cell_type": "code",
      "source": [
        "from sklearn.linear_model import LinearRegression\n",
        "res_data = LinearRegression(fit_intercept=False).fit(X_train1, y_train1)\n",
        "print(\"Training Data R-Squared Value:\")\n",
        "print(res_data.score(X_train1, y_train1))\n",
        "\n",
        "train = res_data.predict(X_train1)\n",
        "train_df = pd.DataFrame(train, columns = ['Predictions'])\n",
        "train_df['Y_values'] = y_train1\n",
        "train_df['Residuals'] = train_df['Y_values']-train_df['Predictions']\n",
        "print(\"The RMSE for Training Data:\")\n",
        "RMSE = np.sqrt(np.mean(np.square(train_df['Residuals'])))\n",
        "print(RMSE)\n",
        "\n",
        "print(\"Testing Data R-Squared Value:\")\n",
        "print(res_data.score(X_train1, y_train1))\n",
        "\n",
        "test = res_data.predict(X_test1)\n",
        "test_df = pd.DataFrame(test, columns = ['Predictions'])\n",
        "test_df['Y_values'] = y_test1\n",
        "test_df['Residuals'] = test_df['Y_values']-test_df['Predictions']\n",
        "print(\"The RMSE for Testing Data:\")\n",
        "RMSE = np.sqrt(np.mean(np.square(test_df['Residuals'])))\n",
        "print(RMSE)"
      ],
      "metadata": {
        "colab": {
          "base_uri": "https://localhost:8080/"
        },
        "id": "Z71UQRR48lAD",
        "outputId": "2d1726ab-c941-43b0-86a5-da4ead6b6516"
      },
      "execution_count": 370,
      "outputs": [
        {
          "output_type": "stream",
          "name": "stdout",
          "text": [
            "Training Data R-Squared Value:\n",
            "0.20350849998975584\n",
            "The RMSE for Training Data:\n",
            "159.40574764326723\n",
            "Testing Data R-Squared Value:\n",
            "0.20350849998975584\n",
            "The RMSE for Testing Data:\n",
            "129.60825094397285\n"
          ]
        }
      ]
    },
    {
      "cell_type": "markdown",
      "source": [
        "This is the current best model, though it is slightly weak."
      ],
      "metadata": {
        "id": "vWYjDoMk91jz"
      }
    },
    {
      "cell_type": "markdown",
      "source": [
        "## What Model Performs the Best?\n",
        "The model that performed the best regressed on the Room Type and number of Beds."
      ],
      "metadata": {
        "id": "a2OY0yba-YOW"
      }
    },
    {
      "cell_type": "markdown",
      "source": [
        "# Linear Property\n",
        "5. Make partial correlation plots for each of the numeric variables in your model. Do you notice any significant non-linearities?"
      ],
      "metadata": {
        "id": "wPJ5T8O9-jO0"
      }
    },
    {
      "cell_type": "markdown",
      "source": [
        "## Beds"
      ],
      "metadata": {
        "id": "wPmUb2vQ_Uka"
      }
    },
    {
      "cell_type": "code",
      "source": [
        "X_train1, X_test1, y_train1, y_test1 = train_test_split(df2[['Beds']], price, test_size=0.2, random_state=100)"
      ],
      "metadata": {
        "id": "79KXxeIg_Fet"
      },
      "execution_count": 371,
      "outputs": []
    },
    {
      "cell_type": "code",
      "source": [
        "from sklearn.linear_model import LinearRegression\n",
        "res_data = LinearRegression(fit_intercept=False).fit(X_train1, y_train1)\n",
        "print(\"Training Data R-Squared Value:\")\n",
        "print(res_data.score(X_train1, y_train1))\n",
        "\n",
        "train = res_data.predict(X_train1)\n",
        "train_df = pd.DataFrame(train, columns = ['Predictions'])\n",
        "train_df['Y_values'] = y_train1\n",
        "train_df['Residuals'] = train_df['Y_values']-train_df['Predictions']\n",
        "print(\"The RMSE for Training Data:\")\n",
        "RMSE = np.sqrt(np.mean(np.square(train_df['Residuals'])))\n",
        "print(RMSE)\n",
        "\n",
        "print(\"Testing Data R-Squared Value:\")\n",
        "print(res_data.score(X_train1, y_train1))\n",
        "\n",
        "test = res_data.predict(X_test1)\n",
        "test_df = pd.DataFrame(test, columns = ['Predictions'])\n",
        "test_df['Y_values'] = y_test1\n",
        "test_df['Residuals'] = test_df['Y_values']-test_df['Predictions']\n",
        "print(\"The RMSE for Testing Data:\")\n",
        "RMSE = np.sqrt(np.mean(np.square(test_df['Residuals'])))\n",
        "print(RMSE)"
      ],
      "metadata": {
        "colab": {
          "base_uri": "https://localhost:8080/"
        },
        "id": "KjfY5gzH-4Bl",
        "outputId": "d53c71f2-f8bc-4fb4-a87f-e334ec364e04"
      },
      "execution_count": 372,
      "outputs": [
        {
          "output_type": "stream",
          "name": "stdout",
          "text": [
            "Training Data R-Squared Value:\n",
            "0.06149040599680622\n",
            "The RMSE for Training Data:\n",
            "171.87516530763406\n",
            "Testing Data R-Squared Value:\n",
            "0.06149040599680622\n",
            "The RMSE for Testing Data:\n",
            "137.8709430181805\n"
          ]
        }
      ]
    },
    {
      "cell_type": "code",
      "source": [
        "plt.scatter(x = test_df['Residuals'], y = test_df['Residuals'])"
      ],
      "metadata": {
        "colab": {
          "base_uri": "https://localhost:8080/",
          "height": 451
        },
        "id": "Smo_5_Ef_OQM",
        "outputId": "f88bf55c-380a-4249-9867-adb16785e3e3"
      },
      "execution_count": 373,
      "outputs": [
        {
          "output_type": "execute_result",
          "data": {
            "text/plain": [
              "<matplotlib.collections.PathCollection at 0x7f7072cd0350>"
            ]
          },
          "metadata": {},
          "execution_count": 373
        },
        {
          "output_type": "display_data",
          "data": {
            "text/plain": [
              "<Figure size 640x480 with 1 Axes>"
            ],
            "image/png": "[encoded data removed]"
          },
          "metadata": {}
        }
      ]
    },
    {
      "cell_type": "code",
      "source": [
        "df2.columns"
      ],
      "metadata": {
        "colab": {
          "base_uri": "https://localhost:8080/"
        },
        "id": "oyc3UFU8_Vwo",
        "outputId": "7fc8e559-be53-4ae0-ba5f-19b8fd1dffa8"
      },
      "execution_count": 374,
      "outputs": [
        {
          "output_type": "execute_result",
          "data": {
            "text/plain": [
              "Index(['Host Id', 'Review Scores Rating (bin)', 'Zipcode', 'Beds',\n",
              "       'Number of Records', 'Number Of Reviews', 'Price',\n",
              "       'Review Scores Rating', 'Start Year', 'Years Hosting', 'Bronx',\n",
              "       'Brooklyn', 'Manhattan', 'Queens', 'Staten Island', 'Apartment',\n",
              "       'Bed & Breakfast', 'Boat', 'Bungalow', 'Cabin', 'Camper/RV', 'Castle',\n",
              "       'Chalet', 'Condominium', 'Dorm', 'House', 'Hut', 'Lighthouse', 'Loft',\n",
              "       'Other', 'Townhouse', 'Treehouse', 'Villa'],\n",
              "      dtype='object')"
            ]
          },
          "metadata": {},
          "execution_count": 374
        }
      ]
    },
    {
      "cell_type": "markdown",
      "source": [
        "## Review Scores Rating"
      ],
      "metadata": {
        "id": "n_zMxNGe_kGc"
      }
    },
    {
      "cell_type": "code",
      "source": [
        "X_train1, X_test1, y_train1, y_test1 = train_test_split(df2[['Review Scores Rating']], price, test_size=0.2, random_state=100)"
      ],
      "metadata": {
        "id": "qHBtukt1_TcT"
      },
      "execution_count": 375,
      "outputs": []
    },
    {
      "cell_type": "code",
      "source": [
        "from sklearn.linear_model import LinearRegression\n",
        "res_data = LinearRegression(fit_intercept=False).fit(X_train1, y_train1)\n",
        "print(\"Training Data R-Squared Value:\")\n",
        "print(res_data.score(X_train1, y_train1))\n",
        "\n",
        "train = res_data.predict(X_train1)\n",
        "train_df = pd.DataFrame(train, columns = ['Predictions'])\n",
        "train_df['Y_values'] = y_train1\n",
        "train_df['Residuals'] = train_df['Y_values']-train_df['Predictions']\n",
        "print(\"The RMSE for Training Data:\")\n",
        "RMSE = np.sqrt(np.mean(np.square(train_df['Residuals'])))\n",
        "print(RMSE)\n",
        "\n",
        "print(\"Testing Data R-Squared Value:\")\n",
        "print(res_data.score(X_train1, y_train1))\n",
        "\n",
        "test = res_data.predict(X_test1)\n",
        "test_df = pd.DataFrame(test, columns = ['Predictions'])\n",
        "test_df['Y_values'] = y_test1\n",
        "test_df['Residuals'] = test_df['Y_values']-test_df['Predictions']\n",
        "print(\"The RMSE for Testing Data:\")\n",
        "RMSE = np.sqrt(np.mean(np.square(test_df['Residuals'])))\n",
        "print(RMSE)"
      ],
      "metadata": {
        "colab": {
          "base_uri": "https://localhost:8080/"
        },
        "id": "Uq0KDzJp_fHm",
        "outputId": "409677c2-af6e-4fda-955a-838badecb1ac"
      },
      "execution_count": 376,
      "outputs": [
        {
          "output_type": "stream",
          "name": "stdout",
          "text": [
            "Training Data R-Squared Value:\n",
            "0.0019696962044950528\n",
            "The RMSE for Training Data:\n",
            "143.27526901376712\n",
            "Testing Data R-Squared Value:\n",
            "0.0019696962044950528\n",
            "The RMSE for Testing Data:\n",
            "112.4298842161822\n"
          ]
        }
      ]
    },
    {
      "cell_type": "code",
      "source": [
        "plt.scatter(x = test_df['Residuals'], y = test_df['Residuals'])"
      ],
      "metadata": {
        "colab": {
          "base_uri": "https://localhost:8080/",
          "height": 451
        },
        "id": "TdS2Qtoc_huI",
        "outputId": "490e0115-9026-40d9-8f19-aa2663d8df33"
      },
      "execution_count": 377,
      "outputs": [
        {
          "output_type": "execute_result",
          "data": {
            "text/plain": [
              "<matplotlib.collections.PathCollection at 0x7f7071cd0390>"
            ]
          },
          "metadata": {},
          "execution_count": 377
        },
        {
          "output_type": "display_data",
          "data": {
            "text/plain": [
              "<Figure size 640x480 with 1 Axes>"
            ],
            "image/png": "[encoded data removed]"
          },
          "metadata": {}
        }
      ]
    },
    {
      "cell_type": "code",
      "source": [
        "X_train1, X_test1, y_train1, y_test1 = train_test_split(df2[['Years Hosting']], price, test_size=0.2, random_state=100)"
      ],
      "metadata": {
        "id": "1kk-5wG4_pID"
      },
      "execution_count": 378,
      "outputs": []
    },
    {
      "cell_type": "code",
      "source": [
        "from sklearn.linear_model import LinearRegression\n",
        "res_data = LinearRegression(fit_intercept=False).fit(X_train1, y_train1)\n",
        "print(\"Training Data R-Squared Value:\")\n",
        "print(res_data.score(X_train1, y_train1))\n",
        "\n",
        "train = res_data.predict(X_train1)\n",
        "train_df = pd.DataFrame(train, columns = ['Predictions'])\n",
        "train_df['Y_values'] = y_train1\n",
        "train_df['Residuals'] = train_df['Y_values']-train_df['Predictions']\n",
        "print(\"The RMSE for Training Data:\")\n",
        "RMSE = np.sqrt(np.mean(np.square(train_df['Residuals'])))\n",
        "print(RMSE)\n",
        "\n",
        "print(\"Testing Data R-Squared Value:\")\n",
        "print(res_data.score(X_train1, y_train1))\n",
        "\n",
        "test = res_data.predict(X_test1)\n",
        "test_df = pd.DataFrame(test, columns = ['Predictions'])\n",
        "test_df['Y_values'] = y_test1\n",
        "test_df['Residuals'] = test_df['Y_values']-test_df['Predictions']\n",
        "print(\"The RMSE for Testing Data:\")\n",
        "RMSE = np.sqrt(np.mean(np.square(test_df['Residuals'])))\n",
        "print(RMSE)"
      ],
      "metadata": {
        "colab": {
          "base_uri": "https://localhost:8080/"
        },
        "id": "fBuA38c1_rTF",
        "outputId": "8cf417c1-30dd-484d-a204-def323490b29"
      },
      "execution_count": 379,
      "outputs": [
        {
          "output_type": "stream",
          "name": "stdout",
          "text": [
            "Training Data R-Squared Value:\n",
            "-0.004689062183912407\n",
            "The RMSE for Training Data:\n",
            "143.88478956782916\n",
            "Testing Data R-Squared Value:\n",
            "-0.004689062183912407\n",
            "The RMSE for Testing Data:\n",
            "114.56346473378369\n"
          ]
        }
      ]
    },
    {
      "cell_type": "code",
      "source": [
        "plt.scatter(x = test_df['Residuals'], y = test_df['Residuals'])"
      ],
      "metadata": {
        "colab": {
          "base_uri": "https://localhost:8080/",
          "height": 447
        },
        "id": "FTaa374f_wVr",
        "outputId": "eee51012-865a-47a0-cef1-3898744b5fb5"
      },
      "execution_count": 380,
      "outputs": [
        {
          "output_type": "execute_result",
          "data": {
            "text/plain": [
              "<matplotlib.collections.PathCollection at 0x7f70782595d0>"
            ]
          },
          "metadata": {},
          "execution_count": 380
        },
        {
          "output_type": "display_data",
          "data": {
            "text/plain": [
              "<Figure size 640x480 with 1 Axes>"
            ],
            "image/png": "[encoded data removed]"
          },
          "metadata": {}
        }
      ]
    },
    {
      "cell_type": "markdown",
      "source": [
        "## Zip Code"
      ],
      "metadata": {
        "id": "bQS7Mqk-AEKF"
      }
    },
    {
      "cell_type": "code",
      "source": [
        "X_train1, X_test1, y_train1, y_test1 = train_test_split(df2[['Zipcode']], price, test_size=0.2, random_state=100)"
      ],
      "metadata": {
        "id": "qlW4VsBu_2Aq"
      },
      "execution_count": 381,
      "outputs": []
    },
    {
      "cell_type": "code",
      "source": [
        "from sklearn.linear_model import LinearRegression\n",
        "res_data = LinearRegression(fit_intercept=False).fit(X_train1, y_train1)\n",
        "print(\"Training Data R-Squared Value:\")\n",
        "print(res_data.score(X_train1, y_train1))\n",
        "\n",
        "train = res_data.predict(X_train1)\n",
        "train_df = pd.DataFrame(train, columns = ['Predictions'])\n",
        "train_df['Y_values'] = y_train1\n",
        "train_df['Residuals'] = train_df['Y_values']-train_df['Predictions']\n",
        "print(\"The RMSE for Training Data:\")\n",
        "RMSE = np.sqrt(np.mean(np.square(train_df['Residuals'])))\n",
        "print(RMSE)\n",
        "\n",
        "print(\"Testing Data R-Squared Value:\")\n",
        "print(res_data.score(X_train1, y_train1))\n",
        "\n",
        "test = res_data.predict(X_test1)\n",
        "test_df = pd.DataFrame(test, columns = ['Predictions'])\n",
        "test_df['Y_values'] = y_test1\n",
        "test_df['Residuals'] = test_df['Y_values']-test_df['Predictions']\n",
        "print(\"The RMSE for Testing Data:\")\n",
        "RMSE = np.sqrt(np.mean(np.square(test_df['Residuals'])))\n",
        "print(RMSE)"
      ],
      "metadata": {
        "colab": {
          "base_uri": "https://localhost:8080/"
        },
        "id": "rNiOwDoo_-W6",
        "outputId": "f16381d0-48de-4519-a87b-0bf77b1f4589"
      },
      "execution_count": 382,
      "outputs": [
        {
          "output_type": "stream",
          "name": "stdout",
          "text": [
            "Training Data R-Squared Value:\n",
            "-0.02470431353643776\n",
            "The RMSE for Training Data:\n",
            "142.7258962060684\n",
            "Testing Data R-Squared Value:\n",
            "-0.02470431353643776\n",
            "The RMSE for Testing Data:\n",
            "113.20113697980938\n"
          ]
        }
      ]
    },
    {
      "cell_type": "code",
      "source": [
        "plt.scatter(x = test_df['Residuals'], y = test_df['Residuals'])"
      ],
      "metadata": {
        "colab": {
          "base_uri": "https://localhost:8080/",
          "height": 447
        },
        "id": "KQrqV21GAB5O",
        "outputId": "3432772a-1029-4489-f5b8-bccf31116c1e"
      },
      "execution_count": 383,
      "outputs": [
        {
          "output_type": "execute_result",
          "data": {
            "text/plain": [
              "<matplotlib.collections.PathCollection at 0x7f7071a18dd0>"
            ]
          },
          "metadata": {},
          "execution_count": 383
        },
        {
          "output_type": "display_data",
          "data": {
            "text/plain": [
              "<Figure size 640x480 with 1 Axes>"
            ],
            "image/png": "[encoded data removed]"
          },
          "metadata": {}
        }
      ]
    },
    {
      "cell_type": "markdown",
      "source": [
        "## Number of Reviews"
      ],
      "metadata": {
        "id": "uTDIaKMPAZdy"
      }
    },
    {
      "cell_type": "code",
      "source": [
        "X_train1, X_test1, y_train1, y_test1 = train_test_split(df2[['Number Of Reviews']], price, test_size=0.2, random_state=100)"
      ],
      "metadata": {
        "id": "zGXg8vMtAHT2"
      },
      "execution_count": 384,
      "outputs": []
    },
    {
      "cell_type": "code",
      "source": [
        "from sklearn.linear_model import LinearRegression\n",
        "res_data = LinearRegression(fit_intercept=False).fit(X_train1, y_train1)\n",
        "print(\"Training Data R-Squared Value:\")\n",
        "print(res_data.score(X_train1, y_train1))\n",
        "\n",
        "train = res_data.predict(X_train1)\n",
        "train_df = pd.DataFrame(train, columns = ['Predictions'])\n",
        "train_df['Y_values'] = y_train1\n",
        "train_df['Residuals'] = train_df['Y_values']-train_df['Predictions']\n",
        "print(\"The RMSE for Training Data:\")\n",
        "RMSE = np.sqrt(np.mean(np.square(train_df['Residuals'])))\n",
        "print(RMSE)\n",
        "\n",
        "print(\"Testing Data R-Squared Value:\")\n",
        "print(res_data.score(X_train1, y_train1))\n",
        "\n",
        "test = res_data.predict(X_test1)\n",
        "test_df = pd.DataFrame(test, columns = ['Predictions'])\n",
        "test_df['Y_values'] = y_test1\n",
        "test_df['Residuals'] = test_df['Y_values']-test_df['Predictions']\n",
        "print(\"The RMSE for Testing Data:\")\n",
        "RMSE = np.sqrt(np.mean(np.square(test_df['Residuals'])))\n",
        "print(RMSE)"
      ],
      "metadata": {
        "colab": {
          "base_uri": "https://localhost:8080/"
        },
        "id": "KFtQNXgDAK2v",
        "outputId": "235c433b-743c-4ba3-8056-717f164dbb93"
      },
      "execution_count": 385,
      "outputs": [
        {
          "output_type": "stream",
          "name": "stdout",
          "text": [
            "Training Data R-Squared Value:\n",
            "-0.6939970249153087\n",
            "The RMSE for Training Data:\n",
            "194.60358573192707\n",
            "Testing Data R-Squared Value:\n",
            "-0.6939970249153087\n",
            "The RMSE for Testing Data:\n",
            "171.68069668720221\n"
          ]
        }
      ]
    },
    {
      "cell_type": "code",
      "source": [
        "plt.scatter(x = test_df['Residuals'], y = test_df['Residuals'])"
      ],
      "metadata": {
        "colab": {
          "base_uri": "https://localhost:8080/",
          "height": 447
        },
        "id": "mnZBIdtwAMIp",
        "outputId": "9180abc1-88e8-43b9-dfb0-1f4a31378f1f"
      },
      "execution_count": 386,
      "outputs": [
        {
          "output_type": "execute_result",
          "data": {
            "text/plain": [
              "<matplotlib.collections.PathCollection at 0x7f70783a2d90>"
            ]
          },
          "metadata": {},
          "execution_count": 386
        },
        {
          "output_type": "display_data",
          "data": {
            "text/plain": [
              "<Figure size 640x480 with 1 Axes>"
            ],
            "image/png": "[encoded data removed]"
          },
          "metadata": {}
        }
      ]
    },
    {
      "cell_type": "markdown",
      "source": [
        "## Number of Records"
      ],
      "metadata": {
        "id": "cHEjYeeTAbe-"
      }
    },
    {
      "cell_type": "code",
      "source": [
        "X_train1, X_test1, y_train1, y_test1 = train_test_split(df2[['Number of Records']], price, test_size=0.2, random_state=100)"
      ],
      "metadata": {
        "id": "v0YftsCyAfQM"
      },
      "execution_count": 387,
      "outputs": []
    },
    {
      "cell_type": "code",
      "source": [
        "from sklearn.linear_model import LinearRegression\n",
        "res_data = LinearRegression(fit_intercept=False).fit(X_train1, y_train1)\n",
        "print(\"Training Data R-Squared Value:\")\n",
        "print(res_data.score(X_train1, y_train1))\n",
        "\n",
        "train = res_data.predict(X_train1)\n",
        "train_df = pd.DataFrame(train, columns = ['Predictions'])\n",
        "train_df['Y_values'] = y_train1\n",
        "train_df['Residuals'] = train_df['Y_values']-train_df['Predictions']\n",
        "print(\"The RMSE for Training Data:\")\n",
        "RMSE = np.sqrt(np.mean(np.square(train_df['Residuals'])))\n",
        "print(RMSE)\n",
        "\n",
        "print(\"Testing Data R-Squared Value:\")\n",
        "print(res_data.score(X_train1, y_train1))\n",
        "\n",
        "test = res_data.predict(X_test1)\n",
        "test_df = pd.DataFrame(test, columns = ['Predictions'])\n",
        "test_df['Y_values'] = y_test1\n",
        "test_df['Residuals'] = test_df['Y_values']-test_df['Predictions']\n",
        "print(\"The RMSE for Testing Data:\")\n",
        "RMSE = np.sqrt(np.mean(np.square(test_df['Residuals'])))\n",
        "print(RMSE)"
      ],
      "metadata": {
        "colab": {
          "base_uri": "https://localhost:8080/"
        },
        "id": "gac7zIKaAh9y",
        "outputId": "7bb4be4e-aebd-40d3-d1fb-6f0029660020"
      },
      "execution_count": 388,
      "outputs": [
        {
          "output_type": "stream",
          "name": "stdout",
          "text": [
            "Training Data R-Squared Value:\n",
            "0.0\n",
            "The RMSE for Training Data:\n",
            "142.4438095426475\n",
            "Testing Data R-Squared Value:\n",
            "0.0\n",
            "The RMSE for Testing Data:\n",
            "112.82475829839844\n"
          ]
        }
      ]
    },
    {
      "cell_type": "code",
      "source": [
        "plt.scatter(x = test_df['Residuals'], y = test_df['Residuals'])"
      ],
      "metadata": {
        "colab": {
          "base_uri": "https://localhost:8080/",
          "height": 448
        },
        "id": "eyAgD8yqAkAH",
        "outputId": "e95a9350-fb0b-4d3c-e2ed-755d2483e546"
      },
      "execution_count": 389,
      "outputs": [
        {
          "output_type": "execute_result",
          "data": {
            "text/plain": [
              "<matplotlib.collections.PathCollection at 0x7f7079e96610>"
            ]
          },
          "metadata": {},
          "execution_count": 389
        },
        {
          "output_type": "display_data",
          "data": {
            "text/plain": [
              "<Figure size 640x480 with 1 Axes>"
            ],
            "image/png": "[encoded data removed]"
          },
          "metadata": {}
        }
      ]
    },
    {
      "cell_type": "markdown",
      "source": [
        "## None of the singular variables are non linear."
      ],
      "metadata": {
        "id": "bPCvk7AiAvzz"
      }
    },
    {
      "cell_type": "markdown",
      "source": [
        "# Transformations and Interactions\n",
        "6. Include transformations and interactions of your variables, and build a more complex model that reflects your ideas about how the features of the asset determine its value. Determine its RMSE and  𝑅2  on the training and test sets. How does the more complex model your build compare to the simpler ones?"
      ],
      "metadata": {
        "id": "_1CSEBRrA8cC"
      }
    },
    {
      "cell_type": "code",
      "source": [
        "df3 = df2.copy()\n",
        "df3['Beds_arcsin'] = np.arcsinh(df2['Beds'])\n",
        "df3['Years Hosting_arcsin'] = np.arcsinh(df3['Years Hosting'])\n",
        "df3['Reviews_arcsin'] = np.arcsinh(df3['Review Scores Rating'])\n",
        "df3.columns"
      ],
      "metadata": {
        "colab": {
          "base_uri": "https://localhost:8080/"
        },
        "id": "9UhvMQu9CIG8",
        "outputId": "c8b1c235-fd32-4bdb-979f-134d50872af2"
      },
      "execution_count": 408,
      "outputs": [
        {
          "output_type": "execute_result",
          "data": {
            "text/plain": [
              "Index(['Host Id', 'Review Scores Rating (bin)', 'Zipcode', 'Beds',\n",
              "       'Number of Records', 'Number Of Reviews', 'Price',\n",
              "       'Review Scores Rating', 'Start Year', 'Years Hosting', 'Bronx',\n",
              "       'Brooklyn', 'Manhattan', 'Queens', 'Staten Island', 'Apartment',\n",
              "       'Bed & Breakfast', 'Boat', 'Bungalow', 'Cabin', 'Camper/RV', 'Castle',\n",
              "       'Chalet', 'Condominium', 'Dorm', 'House', 'Hut', 'Lighthouse', 'Loft',\n",
              "       'Other', 'Townhouse', 'Treehouse', 'Villa', 'Beds_arcsin',\n",
              "       'Years Hosting_arcsin', 'Reviews_arcsin'],\n",
              "      dtype='object')"
            ]
          },
          "metadata": {},
          "execution_count": 408
        }
      ]
    },
    {
      "cell_type": "code",
      "source": [
        "X_train4, X_test4, y_train4, y_test4 = train_test_split(pd.concat([df3[['Beds_arcsin']], dummyroom], axis=1), price, test_size=0.2, random_state=100)"
      ],
      "metadata": {
        "id": "LX5QYRbzCoA4"
      },
      "execution_count": 411,
      "outputs": []
    },
    {
      "cell_type": "code",
      "source": [
        "from sklearn.linear_model import LinearRegression\n",
        "res_data = LinearRegression(fit_intercept=False).fit(X_train4, y_train4)\n",
        "print(\"Training Data R-Squared Value:\")\n",
        "print(res_data.score(X_train4, y_train4))\n",
        "\n",
        "train = res_data.predict(X_train4)\n",
        "train_df = pd.DataFrame(train, columns = ['Predictions'])\n",
        "train_df['Y_values'] = y_train4\n",
        "train_df['Residuals'] = train_df['Y_values']-train_df['Predictions']\n",
        "print(\"The RMSE for Training Data:\")\n",
        "RMSE = np.sqrt(np.mean(np.square(train_df['Residuals'])))\n",
        "print(RMSE)\n",
        "\n",
        "print(\"Testing Data R-Squared Value:\")\n",
        "print(res_data.score(X_train4, y_train4))\n",
        "\n",
        "test = res_data.predict(X_test4)\n",
        "test_df = pd.DataFrame(test, columns = ['Predictions'])\n",
        "test_df['Y_values'] = y_test4\n",
        "test_df['Residuals'] = test_df['Y_values']-test_df['Predictions']\n",
        "print(\"The RMSE for Testing Data:\")\n",
        "RMSE = np.sqrt(np.mean(np.square(test_df['Residuals'])))\n",
        "print(RMSE)"
      ],
      "metadata": {
        "colab": {
          "base_uri": "https://localhost:8080/"
        },
        "id": "aX98a5F8CyJO",
        "outputId": "14f335ee-6b53-44c4-d5c3-c9377ea1da51"
      },
      "execution_count": 413,
      "outputs": [
        {
          "output_type": "stream",
          "name": "stdout",
          "text": [
            "Training Data R-Squared Value:\n",
            "0.19140602798478035\n",
            "The RMSE for Training Data:\n",
            "158.32527016138582\n",
            "Testing Data R-Squared Value:\n",
            "0.19140602798478035\n",
            "The RMSE for Testing Data:\n",
            "130.09029209617353\n"
          ]
        }
      ]
    },
    {
      "cell_type": "markdown",
      "source": [
        "This one performed worse than the linear model."
      ],
      "metadata": {
        "id": "UAsLOw6AC8pm"
      }
    },
    {
      "cell_type": "code",
      "source": [
        "from sklearn.model_selection import train_test_split\n",
        "X_train3, X_test3, y_train3, y_test3 = train_test_split(df3, price, test_size=0.2, random_state=42)"
      ],
      "metadata": {
        "id": "cuAehFETDco9"
      },
      "execution_count": 414,
      "outputs": []
    },
    {
      "cell_type": "code",
      "source": [
        "from sklearn.linear_model import LinearRegression\n",
        "res_data = LinearRegression(fit_intercept=False).fit(X_train3, y_train3)\n",
        "print(\"Training Data R-Squared Value:\")\n",
        "print(res_data.score(X_train3, y_train3))\n",
        "\n",
        "train = res_data.predict(X_train3)\n",
        "train_df = pd.DataFrame(train, columns = ['Predictions'])\n",
        "train_df['Y_values'] = y_train3\n",
        "train_df['Residuals'] = train_df['Y_values']-train_df['Predictions']\n",
        "print(\"The RMSE for Training Data:\")\n",
        "RMSE = np.sqrt(np.mean(np.square(train_df['Residuals'])))\n",
        "print(RMSE)\n",
        "\n",
        "print(\"Testing Data R-Squared Value:\")\n",
        "print(res_data.score(X_train3, y_train3))\n",
        "\n",
        "test = res_data.predict(X_test3)\n",
        "test_df = pd.DataFrame(test, columns = ['Predictions'])\n",
        "test_df['Y_values'] = y_test3\n",
        "test_df['Residuals'] = test_df['Y_values']-test_df['Predictions']\n",
        "print(\"The RMSE for Testing Data:\")\n",
        "RMSE = np.sqrt(np.mean(np.square(test_df['Residuals'])))\n",
        "print(RMSE)"
      ],
      "metadata": {
        "colab": {
          "base_uri": "https://localhost:8080/"
        },
        "id": "QLg0dG7tDhJk",
        "outputId": "3d60b137-1ee0-4feb-8e9a-80bfa5032724"
      },
      "execution_count": 415,
      "outputs": [
        {
          "output_type": "stream",
          "name": "stdout",
          "text": [
            "Training Data R-Squared Value:\n",
            "1.0\n",
            "The RMSE for Training Data:\n",
            "217.21566445604995\n",
            "Testing Data R-Squared Value:\n",
            "1.0\n",
            "The RMSE for Testing Data:\n",
            "149.9341603528862\n"
          ]
        }
      ]
    },
    {
      "cell_type": "markdown",
      "source": [
        "This one performed very well."
      ],
      "metadata": {
        "id": "A7iwLa7WGXnm"
      }
    },
    {
      "cell_type": "code",
      "source": [
        "df4 = df2.copy()\n",
        "df4['log_Beds'] = np.log(df4['Beds'] + 1)\n",
        "df4['log_Years_Hosting'] = np.log(df4['Years Hosting'] + 1)\n",
        "df4['log_Reviews'] = np.log(df4['Review Scores Rating'] + 1)"
      ],
      "metadata": {
        "id": "lqLI7ZjFFVnC"
      },
      "execution_count": 420,
      "outputs": []
    },
    {
      "cell_type": "code",
      "source": [
        "from sklearn.model_selection import train_test_split\n",
        "X_train1, X_test1, y_train1, y_test1 = train_test_split(df4, price, test_size=0.2, random_state=42)"
      ],
      "metadata": {
        "id": "VCqwABhVFXQ9"
      },
      "execution_count": 421,
      "outputs": []
    },
    {
      "cell_type": "code",
      "source": [
        "from sklearn.linear_model import LinearRegression\n",
        "res_data = LinearRegression(fit_intercept=False).fit(X_train1, y_train1)\n",
        "print(\"Training Data R-Squared Value:\")\n",
        "print(res_data.score(X_train1, y_train1))\n",
        "\n",
        "train = res_data.predict(X_train1)\n",
        "train_df = pd.DataFrame(train, columns = ['Predictions'])\n",
        "train_df['Y_values'] = y_train1\n",
        "train_df['Residuals'] = train_df['Y_values']-train_df['Predictions']\n",
        "print(\"The RMSE for Training Data:\")\n",
        "RMSE = np.sqrt(np.mean(np.square(train_df['Residuals'])))\n",
        "print(RMSE)\n",
        "\n",
        "print(\"Testing Data R-Squared Value:\")\n",
        "print(res_data.score(X_train1, y_train1))\n",
        "\n",
        "test = res_data.predict(X_test1)\n",
        "test_df = pd.DataFrame(test, columns = ['Predictions'])\n",
        "test_df['Y_values'] = y_test1\n",
        "test_df['Residuals'] = test_df['Y_values']-test_df['Predictions']\n",
        "print(\"The RMSE for Testing Data:\")\n",
        "RMSE = np.sqrt(np.mean(np.square(test_df['Residuals'])))\n",
        "print(RMSE)"
      ],
      "metadata": {
        "colab": {
          "base_uri": "https://localhost:8080/"
        },
        "id": "VMP3s0_dFYcv",
        "outputId": "f5dc92ed-9819-4534-dd90-e888e0386be2"
      },
      "execution_count": 422,
      "outputs": [
        {
          "output_type": "stream",
          "name": "stdout",
          "text": [
            "Training Data R-Squared Value:\n",
            "1.0\n",
            "The RMSE for Training Data:\n",
            "217.21566445605018\n",
            "Testing Data R-Squared Value:\n",
            "1.0\n",
            "The RMSE for Testing Data:\n",
            "149.9341603528863\n"
          ]
        }
      ]
    },
    {
      "cell_type": "markdown",
      "source": [
        "This model is very good."
      ],
      "metadata": {
        "id": "5QzGsEbyG0h8"
      }
    },
    {
      "cell_type": "markdown",
      "source": [
        "## The more complex models are more accurate due to their ability to deal with uncertainty better. The log transformations worked the best."
      ],
      "metadata": {
        "id": "ZvHIx1cCFpGn"
      }
    },
    {
      "cell_type": "markdown",
      "source": [
        "# Conclusion\n",
        "7. Summarize your results from 1 to 6. Have you learned anything about overfitting and underfitting, or model selection?\n",
        "\n",
        "Through this lab, I found the importance of EDA and true decision making it building models. From the start, what was done with missing values had an impact on the findings, and I wasn't sure how to handle it. Now at the end of this lab, I think I should've taken the mean and replaced it for the review scores rating. When it comes to overfitting and underfitting, it was clear that the models were not well built. All of my high fitting models had 100% explained variance meaning they were likely overfitted due to an absence of noise. This made me realize the importantance of testing different variables and transformations to maximize the findings in a data project."
      ],
      "metadata": {
        "id": "1xpdLdnAG59r"
      }
    }
  ],
  "metadata": {
    "kernelspec": {
      "display_name": "base",
      "language": "python",
      "name": "python3"
    },
    "language_info": {
      "codemirror_mode": {
        "name": "ipython",
        "version": 3
      },
      "file_extension": ".py",
      "mimetype": "text/x-python",
      "name": "python",
      "nbconvert_exporter": "python",
      "pygments_lexer": "ipython3",
      "version": "3.12.2"
    },
    "colab": {
      "provenance": []
    }
  },
  "nbformat": 4,
  "nbformat_minor": 0
}